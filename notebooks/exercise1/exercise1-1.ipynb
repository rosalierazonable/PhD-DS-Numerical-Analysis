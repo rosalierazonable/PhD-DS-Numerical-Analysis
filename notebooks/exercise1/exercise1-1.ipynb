{
  "cells": [
    {
      "cell_type": "markdown",
      "id": "aa608448",
      "metadata": {},
      "source": [
        "# Math 271.1: Exercise 1 (#1)"
      ]
    },
    {
      "cell_type": "markdown",
      "id": "0a1d8461",
      "metadata": {},
      "source": [
        "#### INSTRUCTION: <br>\n",
        "Starting from x = 1, repeatedly set x = x/2 until 1 + x == 1. <br> \n",
        "Record the last x for which 1 + x > 1. <br> \n",
        "Compare this value with eps."
      ]
    },
    {
      "cell_type": "markdown",
      "id": "82ca3779",
      "metadata": {},
      "source": [
        "### Main Data Structure / Variables\n",
        "\n",
        "- ***Floating-point***:\n",
        "    - **x**: initialized with 1\n",
        "    - **last_x**: keeps track of the last value of x before it fails the condition and jumps out the loop, should be initialized to zero or None\n",
        "    - **eps64**: holds the machine eps in double precision (default in python for float)"
      ]
    },
    {
      "cell_type": "markdown",
      "id": "959d716c",
      "metadata": {},
      "source": [
        "### Pseudocode\n",
        "- Generate the variables: x, last_x, eps64\n",
        "- Use '**while-loop**' for the iteration, since we should at least have 1 iteration and we know the logic when it should stop\n",
        "    - In every iteration, track last_x and divide the x into half\n",
        "    - Once it fails the condition, jump outside loop and compare with the eps64 value"
      ]
    },
    {
      "cell_type": "markdown",
      "id": "212f41ea",
      "metadata": {},
      "source": [
        "### Step by step breakdown of logic: \n",
        "---"
      ]
    },
    {
      "cell_type": "markdown",
      "id": "718c20ca",
      "metadata": {},
      "source": [
        "#### Initialize variables:"
      ]
    },
    {
      "cell_type": "code",
      "execution_count": 1,
      "id": "271cf872",
      "metadata": {},
      "outputs": [],
      "source": [
        "x = 1.0\n",
        "last_x = None"
      ]
    },
    {
      "cell_type": "code",
      "execution_count": 2,
      "id": "e1e5e47f",
      "metadata": {},
      "outputs": [
        {
          "name": "stdout",
          "output_type": "stream",
          "text": [
            "float64 eps: 2.220446049250313e-16\n"
          ]
        }
      ],
      "source": [
        "# In python, we can get built-in value for eps\n",
        "import numpy as np\n",
        "\n",
        "eps64 = np.finfo(float).eps\n",
        "print(\"float64 eps:\", eps64) ## since float64 is the default used by python"
      ]
    },
    {
      "cell_type": "markdown",
      "id": "dfda9b34",
      "metadata": {},
      "source": [
        "#### Iteratively half the x and track the last x\n",
        "\n",
        "Evaluate whether (1.0 + x) is in fact equal to 1.0 or not. \n",
        "If not, continue adding the previous x value halved, Otherwise, stop and jump outside the loop."
      ]
    },
    {
      "cell_type": "code",
      "execution_count": 3,
      "id": "3a77fd42",
      "metadata": {},
      "outputs": [],
      "source": [
        "while 1.0 + x != 1.0:\n",
        "    last_x = x\n",
        "    x = x / 2.0"
      ]
    },
    {
      "cell_type": "markdown",
      "id": "02a57fd7",
      "metadata": {},
      "source": [
        "By the time the loop ends, x is half of the latest value of x (now last_x):"
      ]
    },
    {
      "cell_type": "code",
      "execution_count": 4,
      "id": "59fc7b74",
      "metadata": {},
      "outputs": [
        {
          "name": "stdout",
          "output_type": "stream",
          "text": [
            "2.220446049250313e-16\n",
            "1.1102230246251565e-16\n"
          ]
        }
      ],
      "source": [
        "print(last_x) #previous value\n",
        "print(x) # current value"
      ]
    },
    {
      "cell_type": "markdown",
      "id": "fe4e11ee",
      "metadata": {},
      "source": [
        "#### Comparison of Machine Eps vs Last X value:\n",
        "\n",
        "When checking equality, '==' should not be used because it is particularly dangerous for floating-point arithmetic. It will result to rounding error. <br>\n",
        "To be sure we can use Numpy's `allclose`, which checks if two values matches within certain tolerance"
      ]
    },
    {
      "cell_type": "code",
      "execution_count": 5,
      "id": "0cd336d6",
      "metadata": {},
      "outputs": [
        {
          "name": "stdout",
          "output_type": "stream",
          "text": [
            "Equal\n"
          ]
        }
      ],
      "source": [
        "if last_x == eps64:\n",
        "    print('Equal')\n",
        "else:\n",
        "    print('Different by: ', last_x - eps64)\n"
      ]
    },
    {
      "cell_type": "markdown",
      "id": "239929f5",
      "metadata": {},
      "source": [
        "#### Entire Code: \n",
        "---"
      ]
    },
    {
      "cell_type": "code",
      "execution_count": 6,
      "id": "b7e16d34",
      "metadata": {},
      "outputs": [
        {
          "name": "stdout",
          "output_type": "stream",
          "text": [
            "Value of x:  1.1102230246251565e-16\n",
            "Value of eps: 2.220446049250313e-16\n",
            "Last value of x: 2.220446049250313e-16\n",
            "\n",
            "Absolute error between last x and eps: 0.00000\n",
            "Approximately the same? True\n"
          ]
        }
      ],
      "source": [
        "import numpy as np\n",
        "\n",
        "x = 1.0\n",
        "last_x = None\n",
        "eps = np.finfo(float).eps\n",
        "\n",
        "while 1.0 + x != 1.0:\n",
        "    last_x = x\n",
        "    x = x / 2.0\n",
        "\n",
        "print('Value of x: ', x)\n",
        "print(\"Value of eps:\", eps)\n",
        "print('Last value of x:', last_x)\n",
        "\n",
        "abs_error = abs(last_x - eps)\n",
        "\n",
        "print(f\"\\nAbsolute error between last x and eps: {abs_error:.5f}\")\n",
        "print(f\"Approximately the same? {np.allclose(last_x, eps)}\")"
      ]
    }
  ],
  "metadata": {
    "kernelspec": {
      "display_name": ".venv (3.13.7)",
      "language": "python",
      "name": "python3"
    },
    "language_info": {
      "codemirror_mode": {
        "name": "ipython",
        "version": 3
      },
      "file_extension": ".py",
      "mimetype": "text/x-python",
      "name": "python",
      "nbconvert_exporter": "python",
      "pygments_lexer": "ipython3",
      "version": "3.13.7"
    }
  },
  "nbformat": 4,
  "nbformat_minor": 5
}
