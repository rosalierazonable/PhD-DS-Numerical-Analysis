{
 "cells": [
  {
   "cell_type": "markdown",
   "id": "39beaec6",
   "metadata": {},
   "source": [
    "# Math 271.1: Exercise 1 (#3)"
   ]
  },
  {
   "cell_type": "markdown",
   "id": "4de44246",
   "metadata": {},
   "source": [
    "### INSTRUCTION: <br>\n",
    "\n",
    "Given matrix A = [[2, 1], [1, 3]], we need to: <br>\n",
    "\n",
    "(a): Prove that the ℓ₁-unit ball in ℝ² is the diamond {(x,y)ᵀ : |x| + |y| = 1} <br>\n",
    "(b): Show that v(θ) = (1/(|cos θ| + |sin θ|)) * [cos θ, sin θ]ᵀ are unit vectors in ℓ₁-norm <br>\n",
    "(c): Sample 1000 unit vectors v(θ), \n",
    "- compute ||Av(θ)||₁, \n",
    "- and estimate ||A||₁\n",
    "\n",
    "(d): Visualize the ℓ₁-unit ball with sampled vectors and the transformed set {Av(θ)} <br>\n",
    "(e): Compare estimate with analytical result using norm(A,1) <br>"
   ]
  },
  {
   "cell_type": "markdown",
   "id": "34589d0e",
   "metadata": {},
   "source": [
    "### Main Data Structure / Variables\n",
    "\n",
    "- ***Array/Matrix***:\n",
    "    - **A**: represents the given `matrix [[2,1], [1,3]]`\n",
    "    - **theta_samples**: θ values within [0, 2pi] for sampling\n",
    "    - **cos_theta**: cos(θ) values for each sampled θ\n",
    "    - **sin_theta**: sin(θ) values for each sampled θ\n",
    "    - **normalizer**: |cos(θ)| + |sin(θ)| for normalization <br><br>\n",
    "    - **v_vectors**: unit vectors v(θ) on l<sub>1</sub>-unit ball\n",
    "    - **Av_vectors**: transformed vectors v(θ) on A*v(θ)\n",
    "    - **Av_l1_norms**: ||Av(θ)||₁ for each sample\n",
    "    - **l1_norms_check**: array for verification that ||v(θ)||<sub>1</sub> = 1<br><br>\n",
    "    - **col_sums**: array to hold absolute column sums \n",
    "    - **diamond_x**: array for x-coordinates of diamond vertices\n",
    "    - **diamond_y**: array for y-coordinates of diamond vertices\n",
    "- ***Int***:\n",
    "    - **n_samples**: int - number of θ values to sample, which is 1000\n",
    "    - **max_index**: index for the max norm\n",
    "- ***Floating-point***:\n",
    "    - **estimated_A_norm**: max value from Av_l1_norms\n",
    "    - **analytical_A_norm**: true ||A||<sub>1</sub> computed using column sum formula\n",
    "    - **numpy_A_norm**: ||A||<sub>1</sub> computed using np.linalg.norm(A, 1) for verification<br><br>\n",
    "    - **error**: absolute difference |estimated_A_norm - analytical_A_norm|\n",
    "    - **relative_error**: percentage error (error/analytical_A_norm) × 100\n"
   ]
  },
  {
   "cell_type": "markdown",
   "id": "6a58214d",
   "metadata": {},
   "source": [
    "### Pseudocode\n",
    "\n",
    "- Show |x| + |y| = 1 by creating 4 line segments in each quadrant connecting the vertices of the diamond\n",
    "- Generate theta_samples\n",
    "- Generate **cos_theta** and **sin_theta** using list comprehension\n",
    "- Generate normalizer using list comprehension\n",
    "- Create v_vectors \n",
    "- Generate Av_vectors using matrix multiplication\n",
    "- Use **'for-loop'** for norm computation since we need l<sub>1</sub>-norm for each transformed vector\n",
    "- Use **'for-loop'** to find maximum norm and corresponding index\n",
    "    - In every iteration, compare current norm with running maximum\n",
    "    - Track index of vector achieving maximum \n",
    "- Compute analytical result\n",
    "- Compare estimated vs analytical for accuracy\n",
    "- Visualize using matplotlib"
   ]
  },
  {
   "cell_type": "markdown",
   "id": "141af9c1",
   "metadata": {},
   "source": [
    "### Step by step breakdown of logic: "
   ]
  },
  {
   "cell_type": "code",
   "execution_count": 1,
   "id": "540ca06d",
   "metadata": {},
   "outputs": [],
   "source": [
    "import numpy as np\n",
    "import matplotlib.pyplot as plt\n",
    "from scipy.linalg import norm"
   ]
  },
  {
   "cell_type": "markdown",
   "id": "9788a4f0",
   "metadata": {},
   "source": [
    "#### Configure Matplotlib setup to avoid repetition"
   ]
  },
  {
   "cell_type": "code",
   "execution_count": 2,
   "id": "1acdc885",
   "metadata": {},
   "outputs": [],
   "source": [
    "plt.rcParams['figure.figsize'] = (8, 6)\n",
    "plt.rcParams['font.size'] = 10\n",
    "plt.rcParams['axes.grid'] = True\n",
    "plt.rcParams['grid.alpha'] = 0.3\n",
    "plt.rcParams['axes.axisbelow'] = True\n",
    "plt.rcParams['legend.framealpha'] = 0.9"
   ]
  },
  {
   "cell_type": "markdown",
   "id": "dd9decca",
   "metadata": {},
   "source": [
    "### 3a - Proving ℓ₁-unit ball is diamond |x| + |y| = 1:\n",
    "---"
   ]
  },
  {
   "cell_type": "markdown",
   "id": "af82f1de",
   "metadata": {},
   "source": [
    "3a - Proving ℓ₁-unit ball is diamond |x| + |y| = 1:\n",
    "\n",
    "- By definition: ℓ₁-unit ball = {(x,y) : ||v||₁ ≤ 1} = {(x,y) : |x| + |y| ≤ 1}\n",
    "- The unit sphere boundary is: |x| + |y| = 1\n",
    "- This forms a diamond because each quadrant shows:\n",
    "\n",
    "  **Quadrant I** `(x ≥ 0, y ≥ 0)`: \n",
    "  `|x| + |y| = x + y = 1`  →  line from (1,0) to (0,1)\n",
    "  \n",
    "  **Quadrant II** `(x ≤ 0, y ≥ 0)`: \n",
    "  |`x| + |y| = -x + y = 1`  →  line from (0,1) to (-1,0)\n",
    "  \n",
    "  **Quadrant III** `(x ≤ 0, y ≤ 0)`: \n",
    "  `|x| + |y| = -x - y = 1`  →  line from (-1,0) to (0,-1)\n",
    "  \n",
    "  **Quadrant IV** `(x ≥ 0, y ≤ 0)`: \n",
    "  `|x| + |y| = x - y = 1`  →  line from (0,-1) to (1,0)\n",
    "\n",
    "- These 4 line segments connect to form a diamond with vertices at (±1,0) and (0,±1)\n",
    "\n",
    "Therefore, the ℓ₁-unit ball is the diamond {(x,y) : |x| + |y| = 1}. ∎\n",
    "\n",
    "---"
   ]
  },
  {
   "cell_type": "markdown",
   "id": "9d819a87",
   "metadata": {},
   "source": [
    "##### Initialize the diamond vertices:"
   ]
  },
  {
   "cell_type": "code",
   "execution_count": 3,
   "id": "3055f031",
   "metadata": {},
   "outputs": [
    {
     "name": "stdout",
     "output_type": "stream",
     "text": [
      "Diamond vertices (x, y):\n",
      "[(1, 0), (0, 1), (-1, 0), (0, -1), (1, 0)]\n"
     ]
    }
   ],
   "source": [
    "diamond_x = [1, 0, -1, 0, 1]\n",
    "diamond_y = [0, 1, 0, -1, 0]\n",
    "\n",
    "print(\"Diamond vertices (x, y):\")\n",
    "print(list(zip(diamond_x, diamond_y)))"
   ]
  },
  {
   "cell_type": "markdown",
   "id": "51d7f075",
   "metadata": {},
   "source": [
    "#### Plot the diamond shape:"
   ]
  },
  {
   "cell_type": "code",
   "execution_count": 4,
   "id": "292d7a1c",
   "metadata": {},
   "outputs": [
    {
     "name": "stderr",
     "output_type": "stream",
     "text": [
      "Ignoring fixed x limits to fulfill fixed data aspect with adjustable data limits.\n"
     ]
    },
    {
     "data": {
      "image/png": "[encoded data removed]",
      "text/plain": [
       "<Figure size 800x600 with 1 Axes>"
      ]
     },
     "metadata": {},
     "output_type": "display_data"
    }
   ],
   "source": [
    "plt.figure()\n",
    "plt.plot(diamond_x, diamond_y, 'r-', linewidth=3, marker='o', markersize=8, label='ℓ₁-unit ball |x|+|y|=1')\n",
    "plt.fill(diamond_x[:-1], diamond_y[:-1], alpha=0.2, color='red')\n",
    "plt.axis('equal')\n",
    "plt.xlim(-1.3, 1.3)\n",
    "plt.ylim(-1.3, 1.3)\n",
    "plt.xlabel('x')\n",
    "plt.ylabel('y')\n",
    "plt.title('Part A: ℓ₁-Unit Ball (Diamond Shape)')\n",
    "plt.legend()\n",
    "plt.show()"
   ]
  },
  {
   "cell_type": "markdown",
   "id": "158edd73",
   "metadata": {},
   "source": [
    "### 3b - Verification that v(θ) are unit vectors:\n",
    "---"
   ]
  },
  {
   "cell_type": "markdown",
   "id": "b18763c5",
   "metadata": {},
   "source": [
    "**Given:** \n",
    "v(θ) = (1 / (|cos θ| + |sin θ|)) * [cos θ, sin θ]ᵀ,  where θ ∈ [0, 2π]\n",
    "\n",
    "**To Prove:** \n",
    "v(θ) are unit vectors in ℓ₁-norm.\n",
    "\n",
    "**Proof:**\n",
    "We need to show that ||v(θ)||₁ = 1 for all θ in [0, 2π].\n",
    "\n",
    "- `(cos θ, sin θ)`: gives us all directions<br>\n",
    "- Since (cos θ, sin θ) has l<sub>2</sub>-norm = 1, not l<sub>1</sub>-norm = 1, we need to transform it by dividing it by its l<sub>1</sub>-norm \n",
    "    - `v(θ) = [cos θ / (|cos θ| + |sin θ|), sin θ / (|cos θ| + |sin θ|)]`\n",
    "<br><br>\n",
    "\n",
    "- Calculate the ℓ₁-norm\n",
    "    - `||v(θ)||₁ = |cos θ / (|cos θ| + |sin θ|)| + |sin θ / (|cos θ| + |sin θ|)|`\n",
    "<br><br>\n",
    "\n",
    "- Since `|cos θ| + |sin θ|` is always positive (cos(θ) and sin(θ) can't both be zero), we can simplify by getting the absolute value: \n",
    "    - `||v(θ)||₁ = |cos θ| / (|cos θ| + |sin θ|) + |sin θ| / (|cos θ| + |sin θ|)`\n",
    "<br>\n",
    "\n",
    "- Combine the fractions because they have the same denominator:\n",
    "    - `||v(θ)||₁ = (|cos θ| + |sin θ|) / (|cos θ| + |sin θ|)`\n",
    "<br><br>\n",
    "\n",
    "- This simplifies to:\n",
    "`||v(θ)||₁ = 1`\n",
    "\n",
    "Therefore, v(θ) are unit vectors in ℓ₁-norm. ∎\n",
    "\n",
    "---"
   ]
  },
  {
   "cell_type": "markdown",
   "id": "ca1d9d26",
   "metadata": {},
   "source": [
    "#### Generate test theta samples"
   ]
  },
  {
   "cell_type": "code",
   "execution_count": 5,
   "id": "dfc716f8",
   "metadata": {},
   "outputs": [
    {
     "name": "stdout",
     "output_type": "stream",
     "text": [
      "Testing specific θ values:\n",
      "  θ = 0.000: v = [ 1.000,  0.000], ||v||₁ = 1.000000\n",
      "  θ = 0.785: v = [ 0.500,  0.500], ||v||₁ = 1.000000\n",
      "  θ = 1.571: v = [ 0.000,  1.000], ||v||₁ = 1.000000\n",
      "  θ = 2.356: v = [-0.500,  0.500], ||v||₁ = 1.000000\n",
      "  θ = 3.142: v = [-1.000,  0.000], ||v||₁ = 1.000000\n",
      "  θ = 3.927: v = [-0.500, -0.500], ||v||₁ = 1.000000\n",
      "  θ = 4.712: v = [-0.000, -1.000], ||v||₁ = 1.000000\n",
      "  θ = 5.498: v = [ 0.500, -0.500], ||v||₁ = 1.000000\n"
     ]
    }
   ],
   "source": [
    "test_thetas = [0, np.pi/4, np.pi/2, 3*np.pi/4, np.pi, 5*np.pi/4, 3*np.pi/2, 7*np.pi/4]\n",
    "print(\"Testing specific θ values:\")\n",
    "\n",
    "test_v_vectors = []\n",
    "for i, theta in enumerate(test_thetas):\n",
    "    cos_val = np.cos(theta)\n",
    "    sin_val = np.sin(theta)\n",
    "    normalizer = abs(cos_val) + abs(sin_val)\n",
    "\n",
    "    v_test = [cos_val/normalizer, sin_val/normalizer]\n",
    "    norm_test = abs(v_test[0]) + abs(v_test[1])\n",
    "\n",
    "    test_v_vectors.append(v_test)\n",
    "    print(f\"  θ = {theta:.3f}: v = [{v_test[0]:6.3f}, {v_test[1]:6.3f}], ||v||₁ = {norm_test:.6f}\")\n"
   ]
  },
  {
   "cell_type": "code",
   "execution_count": 6,
   "id": "f6c4c24a",
   "metadata": {},
   "outputs": [
    {
     "name": "stderr",
     "output_type": "stream",
     "text": [
      "Ignoring fixed x limits to fulfill fixed data aspect with adjustable data limits.\n"
     ]
    },
    {
     "data": {
      "image/png": "[encoded data removed]",
      "text/plain": [
       "<Figure size 800x600 with 1 Axes>"
      ]
     },
     "metadata": {},
     "output_type": "display_data"
    },
    {
     "name": "stdout",
     "output_type": "stream",
     "text": [
      "\n"
     ]
    }
   ],
   "source": [
    "# Draws the diamon boundary\n",
    "plt.figure()\n",
    "plt.plot(diamond_x, diamond_y, 'r-', linewidth=2, label='ℓ₁-unit ball')\n",
    "\n",
    "# Plot test vectors\n",
    "test_v_array = np.array(test_v_vectors)\n",
    "plt.scatter(test_v_array[:, 0], test_v_array[:, 1],\n",
    "           color='blue', s=80, marker='o', edgecolor='black',\n",
    "           label='Test v(θ) vectors', zorder=5)\n",
    "\n",
    "# Add labels\n",
    "for i, (theta, v) in enumerate(zip(test_thetas, test_v_vectors)):\n",
    "    plt.annotate(f'θ={theta:.2f}', (v[0], v[1]), xytext=(5, 5),\n",
    "                textcoords='offset points', fontsize=8)\n",
    "\n",
    "plt.axis('equal')\n",
    "plt.xlim(-1.2, 1.2)\n",
    "plt.ylim(-1.2, 1.2)\n",
    "plt.xlabel('x₁')\n",
    "plt.ylabel('x₂')\n",
    "plt.title('Part B: Sample v(θ) Points on Diamond Boundary')\n",
    "plt.legend()\n",
    "plt.show()\n",
    "print()"
   ]
  },
  {
   "cell_type": "markdown",
   "id": "bd52b525",
   "metadata": {},
   "source": [
    "### 3c - Sampling and Transformation:\n",
    "---"
   ]
  },
  {
   "cell_type": "markdown",
   "id": "11d8227d",
   "metadata": {},
   "source": [
    "#### Set parameters and define the matrix"
   ]
  },
  {
   "cell_type": "code",
   "execution_count": 7,
   "id": "e22e2596",
   "metadata": {},
   "outputs": [
    {
     "name": "stdout",
     "output_type": "stream",
     "text": [
      "Matrix A:\n",
      " [[2. 1.]\n",
      " [1. 3.]]\n"
     ]
    }
   ],
   "source": [
    "n_samples = 1000\n",
    "np.random.seed(42)\n",
    "\n",
    "A = np.array([[2, 1], [1, 3]], dtype=float)\n",
    "print(\"Matrix A:\\n\", A)\n",
    "\n",
    "# Generate theta_samples from uniform distribution [0, 2π]\n",
    "# We use the numpy random uniform function to generate the samples with equal probability for each angle\n",
    "theta_samples = np.random.uniform(0, 2*np.pi, n_samples)"
   ]
  },
  {
   "cell_type": "markdown",
   "id": "43474f05",
   "metadata": {},
   "source": [
    "#### Generated cos(θ) and sin(θ) \n",
    "\n",
    "Use list comprehension from the `theta_sample` we randomly generated"
   ]
  },
  {
   "cell_type": "code",
   "execution_count": 8,
   "id": "6283a0c3",
   "metadata": {},
   "outputs": [],
   "source": [
    "cos_theta = [np.cos(theta) for theta in theta_samples]\n",
    "sin_theta = [np.sin(theta) for theta in theta_samples]"
   ]
  },
  {
   "cell_type": "markdown",
   "id": "2982c893",
   "metadata": {},
   "source": [
    "#### Generate normalizer \n",
    "\n",
    "We need normalizer because sampling θ uniformly from `[0, 2π]` and then compute`(cos(0), sin(0))`, the points we get on the l<sub>2</sub>-unit circle, not l<sub>1</sub>-unit ball, which will give us wrong matrix norm.\n"
   ]
  },
  {
   "cell_type": "code",
   "execution_count": 9,
   "id": "e8a7c208",
   "metadata": {},
   "outputs": [],
   "source": [
    "normalizer = [abs(cos_val) + abs(sin_val) for cos_val, sin_val in zip(cos_theta, sin_theta)]"
   ]
  },
  {
   "cell_type": "markdown",
   "id": "230caec1",
   "metadata": {},
   "source": [
    "We use `zip()` to pair up cos_theta/sin_theta with the normalizer. <br>\n",
    "The `column_stack` will place these normalized sin and cos values as columns in 2D array."
   ]
  },
  {
   "cell_type": "code",
   "execution_count": 10,
   "id": "3ea750dc",
   "metadata": {},
   "outputs": [
    {
     "name": "stdout",
     "output_type": "stream",
     "text": [
      "Unit Vector Sampling:\n",
      "\n",
      "  [-0.49855524  0.50144476]\n",
      "  [ 0.75759588 -0.24240412]\n",
      "  [-0.10202809 -0.89797191]\n",
      "  [-0.58351832 -0.41648168]\n",
      "  [0.40129919 0.59870081]\n",
      "  [0.40137792 0.59862208]\n",
      "  [0.72355504 0.27644496]\n",
      "  [ 0.47225061 -0.52774939]\n",
      "  [-0.57560536 -0.42439464]\n",
      "  [-0.21241608 -0.78758392]\n",
      "\n"
     ]
    }
   ],
   "source": [
    "cos_normalized = [cos_val/norm_val for cos_val, norm_val in zip(cos_theta, normalizer)]\n",
    "sin_normalized = [sin_val/norm_val for sin_val, norm_val in zip(sin_theta, normalizer)]\n",
    "v_vectors = np.column_stack([cos_normalized, sin_normalized]) # v_vectors becomes a matrix\n",
    "\n",
    "print(\"Unit Vector Sampling:\\n\")\n",
    "for i in v_vectors[:10]: # print first 10 vectors\n",
    "    print(f\"  {i}\")\n",
    "print()"
   ]
  },
  {
   "cell_type": "markdown",
   "id": "c8836148",
   "metadata": {},
   "source": [
    "#### Verify all are unit vectors\n",
    "\n",
    "Performing row-wise sum per vector so we can get the L1 norm for each. <br>\n",
    "Numpy's `allclose` helps in checking whether the `l1_norms_check` is approximately equal to `1.0`"
   ]
  },
  {
   "cell_type": "code",
   "execution_count": 11,
   "id": "052079d5",
   "metadata": {},
   "outputs": [
    {
     "name": "stdout",
     "output_type": "stream",
     "text": [
      "Verification: all ||v(θ)||₁ = 1? True\n",
      "\n"
     ]
    }
   ],
   "source": [
    "l1_norms_check = np.sum(np.abs(v_vectors), axis=1)\n",
    "\n",
    "print(f\"Verification: all ||v(θ)||₁ = 1? {np.allclose(l1_norms_check, 1.0)}\")\n",
    "print()\n"
   ]
  },
  {
   "cell_type": "markdown",
   "id": "cb45dd4e",
   "metadata": {},
   "source": [
    "#### Generate Av_vectors \n",
    "\n",
    "Using matrix multiplication A @ v_vectors.T, which is basically now our transformed vectors "
   ]
  },
  {
   "cell_type": "code",
   "execution_count": 12,
   "id": "3124e3ef",
   "metadata": {},
   "outputs": [
    {
     "name": "stdout",
     "output_type": "stream",
     "text": [
      "Generated Av_vectors using matrix multiplication, shape: (1000, 2)\n",
      "[[-0.49566571  1.00577905]\n",
      " [ 1.27278763  0.03038351]\n",
      " [-1.10202809 -2.79594382]\n",
      " ...\n",
      " [ 1.46280228  2.07439545]\n",
      " [ 1.26710809  0.02281079]\n",
      " [-1.21745928  0.04338763]]\n"
     ]
    }
   ],
   "source": [
    "# Applied matrix A to v_vectors\n",
    "Av_vectors = (A @ v_vectors.T).T # Tranformed ve\n",
    "\n",
    "print(f\"Generated Av_vectors using matrix multiplication, shape: {Av_vectors.shape}\")\n",
    "print(Av_vectors)\n"
   ]
  },
  {
   "cell_type": "markdown",
   "id": "04088866",
   "metadata": {},
   "source": [
    "#### Compute ℓ₁ norms of all transformed vectors Av(θ)\n",
    "\n",
    "We do this so we can take the maximum of those values and approximate the induced L<sub>1</sub> matrix norm of A. "
   ]
  },
  {
   "cell_type": "code",
   "execution_count": 13,
   "id": "3f87e503",
   "metadata": {},
   "outputs": [
    {
     "name": "stdout",
     "output_type": "stream",
     "text": [
      "Sample |Av(θ)||₁ values:\n",
      "\n",
      "||Av(θ_0)||₁ = 1.501445\n",
      "||Av(θ_1)||₁ = 1.303171\n",
      "||Av(θ_2)||₁ = 3.897972\n",
      "||Av(θ_3)||₁ = 3.416482\n",
      "||Av(θ_4)||₁ = 3.598701\n",
      "||Av(θ_5)||₁ = 3.598622\n",
      "||Av(θ_6)||₁ = 3.276445\n",
      "||Av(θ_7)||₁ = 1.527749\n",
      "||Av(θ_8)||₁ = 3.424395\n",
      "||Av(θ_9)||₁ = 3.787584\n",
      "\n"
     ]
    }
   ],
   "source": [
    "Av_l1_norms = np.sum(np.abs(Av_vectors), axis=1) # Compute ℓ₁ norms of all transformed vectors Av(θ)\n",
    "\n",
    "print(\"Sample |Av(θ)||₁ values:\\n\")\n",
    "for i in range(10):\n",
    "    print(f\"||Av(θ_{i})||₁ = {Av_l1_norms[i]:.6f}\")\n",
    "print()"
   ]
  },
  {
   "cell_type": "markdown",
   "id": "8de51cd5",
   "metadata": {},
   "source": [
    "#### Estimate ||A||₁ \n",
    "We estimate the inducted matrix norm, which is basically the largest values from that L<sub>1</sub> norm of the transformed vector."
   ]
  },
  {
   "cell_type": "code",
   "execution_count": 14,
   "id": "ed26c244",
   "metadata": {},
   "outputs": [
    {
     "name": "stdout",
     "output_type": "stream",
     "text": [
      "Estimated ||A||₁ = max ||Av(θ)||₁ = 3.999752\n"
     ]
    }
   ],
   "source": [
    "estimated_A_norm = np.max(Av_l1_norms)\n",
    "print(f\"Estimated ||A||₁ = max ||Av(θ)||₁ = {estimated_A_norm:.6f}\")"
   ]
  },
  {
   "cell_type": "markdown",
   "id": "4d5dc926",
   "metadata": {},
   "source": [
    "### 3d - Visualize:\n",
    "---"
   ]
  },
  {
   "cell_type": "markdown",
   "id": "62d3a545",
   "metadata": {},
   "source": [
    "#### Plot all sampled v(θ) points on diamond"
   ]
  },
  {
   "cell_type": "code",
   "execution_count": 15,
   "id": "72d5b7f6",
   "metadata": {},
   "outputs": [
    {
     "name": "stderr",
     "output_type": "stream",
     "text": [
      "Ignoring fixed x limits to fulfill fixed data aspect with adjustable data limits.\n"
     ]
    },
    {
     "data": {
      "image/png": "[encoded data removed]",
      "text/plain": [
       "<Figure size 800x600 with 1 Axes>"
      ]
     },
     "metadata": {},
     "output_type": "display_data"
    },
    {
     "name": "stdout",
     "output_type": "stream",
     "text": [
      "✓ Sampling visualization complete\n",
      "\n"
     ]
    }
   ],
   "source": [
    "plt.figure()\n",
    "plt.plot(diamond_x, diamond_y, 'r-', linewidth=2, label='ℓ₁-unit ball')\n",
    "plt.scatter(v_vectors[:, 0], v_vectors[:, 1], alpha=0.4, s=1, c='blue', label=f'{n_samples} sampled v(θ)')\n",
    "plt.axis('equal')\n",
    "plt.xlim(-1.1, 1.1)\n",
    "plt.ylim(-1.1, 1.1)\n",
    "plt.xlabel('x₁')\n",
    "plt.ylabel('x₂')\n",
    "plt.title('Part C: All Sampled v(θ) Points on Diamond')\n",
    "plt.legend()\n",
    "plt.show()\n",
    "print(\"✓ Sampling visualization complete\")\n",
    "print()"
   ]
  },
  {
   "cell_type": "markdown",
   "id": "2f25ac2f",
   "metadata": {},
   "source": [
    "#### Plot transformed vectors {Av(θ)}"
   ]
  },
  {
   "cell_type": "code",
   "execution_count": 16,
   "id": "9126c0e5",
   "metadata": {},
   "outputs": [
    {
     "data": {
      "image/png": "[encoded data removed]",
      "text/plain": [
       "<Figure size 800x600 with 1 Axes>"
      ]
     },
     "metadata": {},
     "output_type": "display_data"
    },
    {
     "name": "stdout",
     "output_type": "stream",
     "text": [
      "\n"
     ]
    }
   ],
   "source": [
    "plt.figure()\n",
    "plt.scatter(Av_vectors[:, 0], Av_vectors[:, 1], alpha=0.5, s=2, c='red', label='Transformed {Av(θ)}')\n",
    "plt.axis('equal')\n",
    "plt.xlabel('(Av)₁')\n",
    "plt.ylabel('(Av)₂')\n",
    "plt.title('Part C: Transformed Vectors {Av(θ)}')\n",
    "plt.legend()\n",
    "plt.show()\n",
    "print()"
   ]
  },
  {
   "cell_type": "markdown",
   "id": "eca1313d",
   "metadata": {},
   "source": [
    "### 3e - Compare:\n",
    "---"
   ]
  },
  {
   "cell_type": "markdown",
   "id": "40dccb98",
   "metadata": {},
   "source": [
    "Numpy's `linalg` (Linear Algebra) computes the induced matrix 1-norm, by applying this to the matrix, we can get the Exact value and compare it with the estimated value. "
   ]
  },
  {
   "cell_type": "code",
   "execution_count": 17,
   "id": "6ccd35dc",
   "metadata": {},
   "outputs": [
    {
     "name": "stdout",
     "output_type": "stream",
     "text": [
      "Estimated ||A||₁ = 3.999752\n",
      "Exact ||A||₁     = 4.000000\n",
      "\n"
     ]
    }
   ],
   "source": [
    "# Your estimate from sampling\n",
    "estimated_A_norm = np.max(Av_l1_norms)\n",
    "\n",
    "# Exact induced L1 norm (maximum column sum)\n",
    "exact_A_norm = np.linalg.norm(A, 1)\n",
    "\n",
    "print(f\"Estimated ||A||₁ = {estimated_A_norm:.6f}\")\n",
    "print(f\"Exact ||A||₁     = {exact_A_norm:.6f}\\n\")"
   ]
  },
  {
   "cell_type": "markdown",
   "id": "3e7c340d",
   "metadata": {},
   "source": [
    "`allclose` computes if the value match within tolerance. \n",
    "\n",
    "Relative tolerance (rtol) = `1e-05` <br>\n",
    "Absolute tolerance (atol) = `1e-08`"
   ]
  },
  {
   "cell_type": "code",
   "execution_count": 18,
   "id": "2a653163",
   "metadata": {},
   "outputs": [
    {
     "name": "stdout",
     "output_type": "stream",
     "text": [
      "Approximately the same? False\n",
      "Difference:  0.00024831013895276755\n"
     ]
    }
   ],
   "source": [
    "print(f\"Approximately the same? {np.allclose(estimated_A_norm, exact_A_norm)}\")\n",
    "print(f\"Difference:  {abs(estimated_A_norm - exact_A_norm)}\")"
   ]
  },
  {
   "cell_type": "markdown",
   "id": "cd261236",
   "metadata": {},
   "source": [
    "### References:\n",
    "\n",
    "[1] https://www.researchgate.net/figure/Unit-ball-representation-of-a-l-norm-b-l-2-norm-c-l-1-norm-d-l-1-2-norm-and-e_fig2_357177123 <br>\n",
    "[2] https://mathoverflow.net/questions/1464/euclidean-volume-of-the-unit-ball-of-matrices-under-the-matrix-norm<br>\n",
    "[3] https://www.cs.utexas.edu/~flame/laff/alaff/chapter01-unit-ball.html<br>\n",
    "[4] https://numpy.org/doc/stable/reference/generated/numpy.allclose.html#numpy-allclose <br>\n",
    "[5] https://www.khanacademy.org/math/linear-algebra/matrix-transformations/linear-transformations/v/matrix-vector-products-as-linear-transformations <br>\n",
    "\n",
    "[6]https://docs.python.org/3/tutorial/datastructures.html<br>\n",
    "[7] https://numpy.org/doc/stable/user/basics.creation.html <br>\n",
    "[8] https://matplotlib.org/stable/tutorials/pyplot.html <br>\n",
    "[9] https://docs.python.org/3/library/functions.html#zip"
   ]
  },
  {
   "cell_type": "markdown",
   "id": "3bb1eeff",
   "metadata": {},
   "source": []
  }
 ],
 "metadata": {
  "kernelspec": {
   "display_name": ".venv (3.13.7)",
   "language": "python",
   "name": "python3"
  },
  "language_info": {
   "codemirror_mode": {
    "name": "ipython",
    "version": 3
   },
   "file_extension": ".py",
   "mimetype": "text/x-python",
   "name": "python",
   "nbconvert_exporter": "python",
   "pygments_lexer": "ipython3",
   "version": "3.13.7"
  }
 },
 "nbformat": 4,
 "nbformat_minor": 5
}
