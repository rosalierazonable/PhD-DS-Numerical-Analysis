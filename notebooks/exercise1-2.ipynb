{
 "cells": [
  {
   "cell_type": "markdown",
   "id": "f486454c",
   "metadata": {},
   "source": [
    "# Math 271.1: Exercise 1 (#2)"
   ]
  },
  {
   "cell_type": "markdown",
   "id": "79fef6f7",
   "metadata": {},
   "source": [
    "### INSTRUCTION: <br>\n",
    "\n",
    "Let f(x) = `(1−cos(x)) / x^2`. <br><br>\n",
    "(a) Evaluate f(x) for `x= 10^(−1),10^(−2),...,10^(−8)`. <br>\n",
    "(b) Compare with the limit = 0.5. Describe the accuracy trend as x decreases. <br>\n",
    "(c) Use trig identity and compare accuracy with the direct formula."
   ]
  },
  {
   "cell_type": "markdown",
   "id": "fe9baf28",
   "metadata": {},
   "source": [
    "### Main Data Structure / Variables\n",
    "- ***List***:\n",
    "    - **x_values**: list containing the values to be used to evaluate the function\n",
    "    - **direct_eval**: list that holds the f(x) values for each x_values\n",
    "    - **identity_eval**: list of all f(x) values after using the trig identity (alternative formula)\n",
    "- ***Floating-point:*** \n",
    "    - **limit**: limit of f(x) -> 1/2 or 0.5"
   ]
  },
  {
   "cell_type": "markdown",
   "id": "c1887045",
   "metadata": {},
   "source": [
    "### Pseudocode\n",
    "- Generate each of the list mentioned above, using **list comprehension** \n",
    "    - list comprehension reduces the line to generate a list\n",
    "- Use '**for-loop**' for the iteration, since we have a fixed length list we can go through\n",
    "    - for every iteration, compute and compare the accuracy"
   ]
  },
  {
   "cell_type": "markdown",
   "id": "f3f1c109",
   "metadata": {
    "vscode": {
     "languageId": "plaintext"
    }
   },
   "source": [
    "### Step by step breakdown of logic: \n",
    "---"
   ]
  },
  {
   "cell_type": "markdown",
   "id": "3ee42044",
   "metadata": {},
   "source": [
    "#### Initialize all three (3) lists: x_values, direct_eval, and identity_eval"
   ]
  },
  {
   "cell_type": "code",
   "execution_count": 14,
   "id": "a2f58152",
   "metadata": {},
   "outputs": [],
   "source": [
    "# we use numpy for the cosine and sine function\n",
    "import numpy as np\n",
    "\n",
    "#set limit value\n",
    "limit = 0.5\n",
    "\n",
    "# creates range object on the fly, exclusive of last value\n",
    "# 10^1 to 10^8\n",
    "x_values = [10**(-i) for i in range(1,9)]\n",
    "\n",
    "# list comprehension to evaluate f(x) using direct formula and trig identity\n",
    "# we basically mean, do this calculation for every element in each list\n",
    "direct_eval = [(1-np.cos(x)) / x**2 for x in x_values]\n",
    "\n",
    "# using trig identity: 1 - cos(x) = 2*(sin(x/2))^2\n",
    "identity_eval = [(2*(np.sin(x/2))**2) / x**2 for x in x_values]"
   ]
  },
  {
   "cell_type": "markdown",
   "id": "ce0663c4",
   "metadata": {},
   "source": [
    "#### 2a - Direct Evaluation: direct_eval values\n",
    "---"
   ]
  },
  {
   "cell_type": "code",
   "execution_count": 4,
   "id": "affb4374-8c41-411b-bf38-5586593dfab5",
   "metadata": {},
   "outputs": [
    {
     "data": {
      "text/plain": [
       "[np.float64(0.49958347219741783),\n",
       " np.float64(0.4999958333473664),\n",
       " np.float64(0.49999995832550326),\n",
       " np.float64(0.4999999969612645),\n",
       " np.float64(0.5000000413701854),\n",
       " np.float64(0.5000444502911705),\n",
       " np.float64(0.4996003610813205),\n",
       " np.float64(0.0)]"
      ]
     },
     "execution_count": 4,
     "metadata": {},
     "output_type": "execute_result"
    }
   ],
   "source": [
    "direct_eval"
   ]
  },
  {
   "cell_type": "markdown",
   "id": "cefb8ad6",
   "metadata": {},
   "source": [
    "#### 2b -  Results using direct evaluation. Describe the accuracy trend as x decreases.\n",
    "---\n",
    "\n",
    "- The numerator of `f(x) is 1 - cos(x)`, cos(x) is very close to 1. \n",
    "    - Subject to rounding errors since they are the results of floating-point arithmetic/operations\n",
    "- Subtracting two nearly equal numbers results to eliminates significant/leading digits because most of the precision cancels out. <br>This essentially causes what we call the **Catastrophic Cancellation**, which leaves mostly noise/rounding error.\n",
    "<br><br>\n",
    "**Accuracy trend:** <br>\n",
    "The result seems to be approaching extremely close to the limit (0.5) from values where x = `10^-1`, `10^-2`, `10^-3`, `10^-4`.<br>\n",
    "However, when `x<=10^-6`, the results started to behave differently, the accuracy collapsed (grew erratically and suddenly dropped).<br>\n",
    "`1-cos(x)` underflows to 0 in double precision which is the default precision in floating point operations in python."
   ]
  },
  {
   "cell_type": "code",
   "execution_count": 5,
   "id": "511278d7",
   "metadata": {},
   "outputs": [
    {
     "name": "stdout",
     "output_type": "stream",
     "text": [
      "x-value\t\tLimit\t\tDirect Eval f(x)\t|Direct Eval f(x) - 0.5|\n",
      "------------------------------------------------------------------------------------------\n",
      "1.00e-01\t0.5000000000\t0.499583472197418\t4.165278025821673e-04\n",
      "1.00e-02\t0.5000000000\t0.499995833347366\t4.166652633585954e-06\n",
      "1.00e-03\t0.5000000000\t0.499999958325503\t4.167449674241652e-08\n",
      "1.00e-04\t0.5000000000\t0.499999996961265\t3.038735485461075e-09\n",
      "1.00e-05\t0.5000000000\t0.500000041370185\t4.137018538852288e-08\n",
      "1.00e-06\t0.5000000000\t0.500044450291171\t4.445029117050581e-05\n",
      "1.00e-07\t0.5000000000\t0.499600361081320\t3.996389186795013e-04\n",
      "1.00e-08\t0.5000000000\t0.000000000000000\t5.000000000000000e-01\n"
     ]
    }
   ],
   "source": [
    "# print(\"\\nResults using direct evaluation:\\n\")\n",
    "\n",
    "print(\"x-value\\t\\tLimit\\t\\tDirect Eval f(x)\\t|Direct Eval f(x) - 0.5|\")\n",
    "print(\"-\" * 90)\n",
    "\n",
    "for i, x in enumerate(x_values):\n",
    "    direct_err = abs(direct_eval[i] - limit)\n",
    "    print(f\"{x:.2e}\\t{0.5:.10f}\\t{direct_eval[i]:.15f}\\t{direct_err:.15e}\")"
   ]
  },
  {
   "cell_type": "markdown",
   "id": "b367b972",
   "metadata": {},
   "source": [
    "#### 2c - Alternative Formula: identity_eval values. Compare accuracy with the direct formula.\n",
    "---\n",
    "\n",
    "Results using Trig Identity:\n",
    "\n",
    "- Looking at the patterns in the results, the alternative formula using the identity for `1-cos(x)`, seemed more stable. <br>\n",
    "- As x becomes smaller and smaller, the result of the alternative formula approaches the limit or true value. <br>\n",
    "- Significant digits were preserved. "
   ]
  },
  {
   "cell_type": "code",
   "execution_count": 11,
   "id": "d854564d",
   "metadata": {},
   "outputs": [
    {
     "name": "stdout",
     "output_type": "stream",
     "text": [
      "\n",
      "Results using Trig Identity:\n",
      "\n"
     ]
    },
    {
     "data": {
      "text/plain": [
       "[np.float64(0.49958347219742333),\n",
       " np.float64(0.49999583334722214),\n",
       " np.float64(0.4999999583333347),\n",
       " np.float64(0.4999999995833334),\n",
       " np.float64(0.4999999999958333),\n",
       " np.float64(0.4999999999999583),\n",
       " np.float64(0.4999999999999996),\n",
       " np.float64(0.5)]"
      ]
     },
     "execution_count": 11,
     "metadata": {},
     "output_type": "execute_result"
    }
   ],
   "source": [
    "print(\"\\nResults using Trig Identity:\\n\")\n",
    "\n",
    "identity_eval"
   ]
  },
  {
   "cell_type": "code",
   "execution_count": 12,
   "id": "1e9771db",
   "metadata": {},
   "outputs": [
    {
     "name": "stdout",
     "output_type": "stream",
     "text": [
      "x-value\t\tLimit\t\tIdentity Eval f(x)\t|Identity Eval f(x) - 0.5|\n",
      "----------------------------------------------------------------------------------------------------\n",
      "1.00e-01\t0.5000000000\t0.499583472197423\t4.165278025766717e-04\n",
      "1.00e-02\t0.5000000000\t0.499995833347222\t4.166652777859436e-06\n",
      "1.00e-03\t0.5000000000\t0.499999958333335\t4.166666528471197e-08\n",
      "1.00e-04\t0.5000000000\t0.499999999583333\t4.166665901195188e-10\n",
      "1.00e-05\t0.5000000000\t0.499999999995833\t4.166722522569444e-12\n",
      "1.00e-06\t0.5000000000\t0.499999999999958\t4.168887457467463e-14\n",
      "1.00e-07\t0.5000000000\t0.500000000000000\t3.885780586188048e-16\n",
      "1.00e-08\t0.5000000000\t0.500000000000000\t0.000000000000000e+00\n"
     ]
    }
   ],
   "source": [
    "print(\"x-value\\t\\tLimit\\t\\tIdentity Eval f(x)\\t|Identity Eval f(x) - 0.5|\")\n",
    "print(\"-\" * 100)\n",
    "\n",
    "for i, x in enumerate(x_values):\n",
    "    alt_err = abs(identity_eval[i] - limit)\n",
    "    print(f\"{x:.2e}\\t{0.5:.10f}\\t{identity_eval[i]:.15f}\\t{alt_err:.15e}\")"
   ]
  },
  {
   "cell_type": "markdown",
   "id": "c62e5ae4",
   "metadata": {},
   "source": [
    "#### Entire Code: \n",
    "---"
   ]
  },
  {
   "cell_type": "code",
   "execution_count": 21,
   "id": "6973ba23",
   "metadata": {},
   "outputs": [
    {
     "name": "stdout",
     "output_type": "stream",
     "text": [
      "\n",
      "Comparison of results based on absolute error: |Direct Eval f(x) - 0.5| vs. |Identity Eval f(x) - 0.5|\n",
      "\n",
      "\n",
      "x-value\t\tLimit\t\tDirect Eval f(x)\tIdentity Eval f(x)\t|Direct Eval f(x) - 0.5|\t|Identity Eval f(x) - 0.5|\t|Direct Err - Alt Err|\n",
      "------------------------------------------------------------------------------------------------------------------------------------------------------------------------------------\n",
      "1.00e-01\t0.5000000000\t0.499583472197418\t0.499583472197423\t4.165278025821673e-04\t\t4.165278025766717e-04\t\t5.495603971894525e-15\n",
      "1.00e-02\t0.5000000000\t0.499995833347366\t0.499995833347222\t4.166652633585954e-06\t\t4.166652777859436e-06\t\t1.442734820500391e-13\n",
      "1.00e-03\t0.5000000000\t0.499999958325503\t0.499999958333335\t4.167449674241652e-08\t\t4.166666528471197e-08\t\t7.831457704554623e-12\n",
      "1.00e-04\t0.5000000000\t0.499999996961265\t0.499999999583333\t3.038735485461075e-09\t\t4.166665901195188e-10\t\t2.622068895341556e-09\n",
      "1.00e-05\t0.5000000000\t0.500000041370185\t0.499999999995833\t4.137018538852288e-08\t\t4.166722522569444e-12\t\t4.136601866600031e-08\n",
      "1.00e-06\t0.5000000000\t0.500044450291171\t0.499999999999958\t4.445029117050581e-05\t\t4.168887457467463e-14\t\t4.445029112881693e-05\n",
      "1.00e-07\t0.5000000000\t0.499600361081320\t0.500000000000000\t3.996389186795013e-04\t\t3.885780586188048e-16\t\t3.996389186791127e-04\n",
      "1.00e-08\t0.5000000000\t0.000000000000000\t0.500000000000000\t5.000000000000000e-01\t\t0.000000000000000e+00\t\t5.000000000000000e-01\n",
      "\n",
      "\n",
      "Comparison of results: Direct Eval (fx) vs. Identity Eval (f(x)\n",
      "\n",
      "\n",
      "x-value\t\tDirect Eval f(x)\tIdentity Eval f(x)\t|Identity Eval f(x) - Direct Eval f(x)|\n",
      "--------------------------------------------------------------------------------------------------------------\n",
      "1.00e-01\t0.499583472197418\t0.499583472197423\t0.000000000000000e+00\n",
      "1.00e-02\t0.499995833347366\t0.499995833347222\t0.000000000000000e+00\n",
      "1.00e-03\t0.499999958325503\t0.499999958333335\t0.000000000000000e+00\n",
      "1.00e-04\t0.499999996961265\t0.499999999583333\t0.000000000000000e+00\n",
      "1.00e-05\t0.500000041370185\t0.499999999995833\t0.000000000000000e+00\n",
      "1.00e-06\t0.500044450291171\t0.499999999999958\t0.000000000000000e+00\n",
      "1.00e-07\t0.499600361081320\t0.500000000000000\t0.000000000000000e+00\n",
      "1.00e-08\t0.000000000000000\t0.500000000000000\t0.000000000000000e+00\n"
     ]
    }
   ],
   "source": [
    "# we use numpy for the cosine and sine function\n",
    "import numpy as np\n",
    "\n",
    "limit = 0.5\n",
    "\n",
    "# creates range object on the fly, exclusive of last value\n",
    "# 10^1 to 10^8\n",
    "x_values = [10**(-i) for i in range(1,9)]\n",
    "\n",
    "# list comprehension to evaluate f(x) using direct formula and trig identity\n",
    "# we basically mean, do this calculation for every element in each list\n",
    "direct_eval = [(1-np.cos(x)) / x**2 for x in x_values]\n",
    "\n",
    "# using trig identity: 1 - cos(x) = 2*(sin(x/2))^2\n",
    "identity_eval = [(2*(np.sin(x/2))**2) / x**2 for x in x_values]\n",
    "\n",
    "print(\"\\nComparison of results based on absolute error: |Direct Eval f(x) - 0.5| vs. |Identity Eval f(x) - 0.5|\\n\\n\")\n",
    "\n",
    "print(\"x-value\\t\\tLimit\\t\\tDirect Eval f(x)\\tIdentity Eval f(x)\\t|Direct Eval f(x) - 0.5|\\t|Identity Eval f(x) - 0.5|\\t|Direct Err - Alt Err|\")\n",
    "print(\"-\" * 180)\n",
    "\n",
    "for i, x in enumerate(x_values):\n",
    "    direct_err = abs(direct_eval[i] - limit)\n",
    "    alt_err = abs(identity_eval[i] - limit)\n",
    "    difference = abs(direct_err - alt_err)\n",
    "    print(f\"{x:.2e}\\t{0.5:.10f}\\t{direct_eval[i]:.15f}\\t{identity_eval[i]:.15f}\\t{direct_err:.15e}\\t\\t{alt_err:.15e}\\t\\t{difference:.15e}\")\n",
    "\n",
    "\n",
    "print(\"\\n\\nComparison of results: Direct Eval (fx) vs. Identity Eval (f(x)\\n\\n\")\n",
    "\n",
    "print(\"x-value\\t\\tDirect Eval f(x)\\tIdentity Eval f(x)\\t|Identity Eval f(x) - Direct Eval f(x)|\")\n",
    "print(\"-\" * 110)\n",
    "\n",
    "for i, x in enumerate(x_values):\n",
    "    accuracy = abs(identity_eval[i] - direct_eval[i])\n",
    "    print(f\"{x:.2e}\\t{direct_eval[i]:.15f}\\t{identity_eval[i]:.15f}\\t{alt_err:.15e}\")\n",
    "\n"
   ]
  },
  {
   "cell_type": "markdown",
   "id": "84e12a80",
   "metadata": {},
   "source": [
    "#### References: \n",
    "\n",
    "[1] https://docs.python.org/3/tutorial/datastructures.html <br>\n",
    "[2] https://docs.python.org/3/library/functions.html#enumerate <br>\n",
    "[3] https://www.cs.utexas.edu/~flame/laff/alaff/a2appendix-catastrophic-cancellation.html <br>\n",
    "[4] https://en.wikipedia.org/wiki/Catastrophic_cancellation"
   ]
  }
 ],
 "metadata": {
  "kernelspec": {
   "display_name": "Python (phd_ds_env)",
   "language": "python",
   "name": "phd_ds_env"
  },
  "language_info": {
   "codemirror_mode": {
    "name": "ipython",
    "version": 3
   },
   "file_extension": ".py",
   "mimetype": "text/x-python",
   "name": "python",
   "nbconvert_exporter": "python",
   "pygments_lexer": "ipython3",
   "version": "3.13.7"
  }
 },
 "nbformat": 4,
 "nbformat_minor": 5
}
