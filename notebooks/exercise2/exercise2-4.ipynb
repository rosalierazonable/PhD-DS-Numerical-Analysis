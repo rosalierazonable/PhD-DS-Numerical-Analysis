{
 "cells": [
  {
   "cell_type": "markdown",
   "id": "71410183",
   "metadata": {},
   "source": [
    "# Math 271.1: Exercise 2 (#4)"
   ]
  },
  {
   "cell_type": "markdown",
   "id": "5719a93d",
   "metadata": {},
   "source": [
    "#### INSTRUCTION: Image Compression Using Singular Value Decomposition (SVD) <br>\n",
    "\n",
    "(a) Compute the singular value decomposition A= UΣVT <br>\n",
    "(b) Reconstruct the image using only the top k singular values <br>\n",
    "(c) Display both the original and compressed images side by side."
   ]
  },
  {
   "cell_type": "markdown",
   "id": "e465e32e",
   "metadata": {},
   "source": []
  }
 ],
 "metadata": {
  "kernelspec": {
   "display_name": ".venv (3.13.7)",
   "language": "python",
   "name": "python3"
  },
  "language_info": {
   "name": "python",
   "version": "3.13.7"
  }
 },
 "nbformat": 4,
 "nbformat_minor": 5
}
