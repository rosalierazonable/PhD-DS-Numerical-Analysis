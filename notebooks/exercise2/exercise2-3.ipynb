{
 "cells": [
  {
   "cell_type": "markdown",
   "id": "f230de7c",
   "metadata": {},
   "source": [
    "# Math 271.1: Exercise 2 (#3)"
   ]
  },
  {
   "cell_type": "markdown",
   "id": "d744b544",
   "metadata": {},
   "source": [
    "#### INSTRUCTION: QR Factorization, Rank, and Nullity <br>\n",
    "\n",
    "(a) Write your own QR factorization code. <br>\n",
    "(b) Determine its rank and nullity using factorization code <br>\n",
    "(c) Verify using a built-in rank computation function."
   ]
  },
  {
   "cell_type": "markdown",
   "id": "598895d3",
   "metadata": {},
   "source": [
    "### (a) QR Factorization Code"
   ]
  },
  {
   "cell_type": "markdown",
   "id": "520556ef",
   "metadata": {},
   "source": [
    "#### Importing Libraries needed"
   ]
  },
  {
   "cell_type": "code",
   "execution_count": 34,
   "id": "960dc2f1",
   "metadata": {},
   "outputs": [],
   "source": [
    "import numpy as np # for matrix operations\n",
    "from IPython.display import display # for displaying arrays and matrices nicely"
   ]
  },
  {
   "cell_type": "markdown",
   "id": "8348d970",
   "metadata": {},
   "source": [
    "#### Initialize Matrix A\n",
    "\n",
    "- creates the input matrix (3x3)\n",
    "- uses float type for numerical stability"
   ]
  },
  {
   "cell_type": "code",
   "execution_count": 35,
   "id": "dedffb7e",
   "metadata": {},
   "outputs": [
    {
     "data": {
      "text/plain": [
       "array([[1., 2., 3.],\n",
       "       [2., 4., 6.],\n",
       "       [1., 1., 0.]])"
      ]
     },
     "metadata": {},
     "output_type": "display_data"
    }
   ],
   "source": [
    "A = np.array([\n",
    "    [1, 2, 3],\n",
    "    [2, 4, 6],\n",
    "    [1, 1, 0]\n",
    "], dtype=float)\n",
    "\n",
    "display(A)"
   ]
  },
  {
   "cell_type": "markdown",
   "id": "98c7450b",
   "metadata": {},
   "source": [
    "#### Initialize Q and R matrices\n",
    "\n",
    "Gets dimensions of A: m rows and n columns\n",
    "Creates and initialize zero matrices for Q (for the orthogonal matrix) and R (upper triangular)"
   ]
  },
  {
   "cell_type": "code",
   "execution_count": 36,
   "id": "505b0ed4",
   "metadata": {},
   "outputs": [
    {
     "data": {
      "text/plain": [
       "array([[0., 0., 0.],\n",
       "       [0., 0., 0.],\n",
       "       [0., 0., 0.]])"
      ]
     },
     "metadata": {},
     "output_type": "display_data"
    },
    {
     "data": {
      "text/plain": [
       "array([[0., 0., 0.],\n",
       "       [0., 0., 0.],\n",
       "       [0., 0., 0.]])"
      ]
     },
     "metadata": {},
     "output_type": "display_data"
    }
   ],
   "source": [
    "m, n = A.shape\n",
    "Q = np.zeros((m, n))\n",
    "R = np.zeros((n, n))\n",
    "\n",
    "display(Q, R)"
   ]
  },
  {
   "cell_type": "markdown",
   "id": "21c17fb0",
   "metadata": {},
   "source": [
    "#### Implement QR Factorization using Gram-Schmidt\n",
    "\n",
    "Logic: \n",
    "- For each column j:\n",
    "    - Take column j of A\n",
    "    - Subtract its projections onto previous orthonormal vectors\n",
    "    - Normalize the result\n",
    "    - Store the normalized vector in Q\n",
    "    - store coefficients in R"
   ]
  },
  {
   "cell_type": "code",
   "execution_count": 37,
   "id": "ba4b3e30",
   "metadata": {},
   "outputs": [
    {
     "data": {
      "text/plain": [
       "array([[ 4.08248290e-01,  1.82574186e-01,  1.27675648e-15],\n",
       "       [ 8.16496581e-01,  3.65148372e-01,  2.55351296e-15],\n",
       "       [ 4.08248290e-01, -9.12870929e-01, -4.88498131e-15]])"
      ]
     },
     "metadata": {},
     "output_type": "display_data"
    },
    {
     "data": {
      "text/plain": [
       "array([[2.44948974e+00, 4.49073120e+00, 6.12372436e+00],\n",
       "       [0.00000000e+00, 9.12870929e-01, 2.73861279e+00],\n",
       "       [0.00000000e+00, 0.00000000e+00, 5.65805425e-15]])"
      ]
     },
     "metadata": {},
     "output_type": "display_data"
    }
   ],
   "source": [
    "for j in range(n):\n",
    "    v = A[:, j].copy()\n",
    "\n",
    "    # Subtract projections onto previous Q columns\n",
    "    for i in range(j):\n",
    "        R[i, j] = np.dot(Q[:, i], A[:, j])\n",
    "        v = v - R[i, j] * Q[:, i]\n",
    "\n",
    "    # Normalize\n",
    "    R[j, j] = np.linalg.norm(v)\n",
    "\n",
    "    if R[j, j] > 1e-10:\n",
    "        Q[:, j] = v / R[j, j]\n",
    "    else:\n",
    "        Q[:, j] = v\n",
    "\n",
    "display(Q, R)"
   ]
  },
  {
   "cell_type": "code",
   "execution_count": 38,
   "id": "8b2051d7",
   "metadata": {},
   "outputs": [
    {
     "name": "stdout",
     "output_type": "stream",
     "text": [
      "Q matrix (orthonormal):\n",
      "\n",
      "[[ 4.08248290e-01  1.82574186e-01  1.27675648e-15]\n",
      " [ 8.16496581e-01  3.65148372e-01  2.55351296e-15]\n",
      " [ 4.08248290e-01 -9.12870929e-01 -4.88498131e-15]]\n"
     ]
    }
   ],
   "source": [
    "print(\"Q matrix (orthonormal):\\n\")\n",
    "print(Q)"
   ]
  },
  {
   "cell_type": "code",
   "execution_count": 39,
   "id": "e87d94ce",
   "metadata": {},
   "outputs": [
    {
     "name": "stdout",
     "output_type": "stream",
     "text": [
      "\n",
      "R matrix (upper triangular):\n",
      "\n",
      "[[2.44948974e+00 4.49073120e+00 6.12372436e+00]\n",
      " [0.00000000e+00 9.12870929e-01 2.73861279e+00]\n",
      " [0.00000000e+00 0.00000000e+00 5.65805425e-15]]\n"
     ]
    }
   ],
   "source": [
    "print(\"\\nR matrix (upper triangular):\\n\")\n",
    "print(R)"
   ]
  },
  {
   "cell_type": "markdown",
   "id": "3dc2d573",
   "metadata": {},
   "source": [
    "### (b) Calculate Rank and Nullity\n",
    "\n",
    "- Use diagonal elements of R to determine rank\n",
    "- Numbers below tolerance (1e-10) are considered zero\n",
    "    - 1e-10 provides a good balance for double-precision floating-point numbers not too large or too small\n",
    "- Calculate nullity"
   ]
  },
  {
   "cell_type": "code",
   "execution_count": 40,
   "id": "7c7ff7ea",
   "metadata": {},
   "outputs": [
    {
     "name": "stdout",
     "output_type": "stream",
     "text": [
      "rank: 2\n",
      "nullity: 1\n",
      "NumPy rank: 2\n"
     ]
    }
   ],
   "source": [
    "tol=1e-10\n",
    "\n",
    "diagonal = np.abs(np.diag(R))\n",
    "rank = np.sum(diagonal > tol)\n",
    "\n",
    "print(\"rank:\", rank)\n",
    "print(\"nullity:\", A.shape[1] - rank)\n",
    "\n",
    "print(f\"NumPy rank: {np.linalg.matrix_rank(A)}\")"
   ]
  },
  {
   "cell_type": "markdown",
   "id": "f14a38c5",
   "metadata": {},
   "source": [
    "### (c) Verify using Numpy\n",
    "- Compare with the calculated rank"
   ]
  },
  {
   "cell_type": "code",
   "execution_count": 41,
   "id": "353e75df",
   "metadata": {},
   "outputs": [
    {
     "name": "stdout",
     "output_type": "stream",
     "text": [
      "Verification: True\n"
     ]
    }
   ],
   "source": [
    "print(\"Verification:\", np.allclose(rank, np.linalg.matrix_rank(A)))"
   ]
  }
 ],
 "metadata": {
  "kernelspec": {
   "display_name": ".venv (3.13.7)",
   "language": "python",
   "name": "python3"
  },
  "language_info": {
   "codemirror_mode": {
    "name": "ipython",
    "version": 3
   },
   "file_extension": ".py",
   "mimetype": "text/x-python",
   "name": "python",
   "nbconvert_exporter": "python",
   "pygments_lexer": "ipython3",
   "version": "3.13.7"
  }
 },
 "nbformat": 4,
 "nbformat_minor": 5
}
