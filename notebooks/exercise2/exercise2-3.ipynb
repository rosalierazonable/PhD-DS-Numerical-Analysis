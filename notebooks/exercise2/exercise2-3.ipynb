{
 "cells": [
  {
   "cell_type": "markdown",
   "id": "f230de7c",
   "metadata": {},
   "source": [
    "# Math 271.1: Exercise 2 (#3)"
   ]
  },
  {
   "cell_type": "markdown",
   "id": "d744b544",
   "metadata": {},
   "source": [
    "#### INSTRUCTION: QR Factorization, Rank, and Nullity <br>\n",
    "\n",
    "(a) Write your own QR factorization code. <br>\n",
    "(b) Determine its rank and nullity using factorization code <br>\n",
    "(c) Verify using a built-in rank computation function."
   ]
  },
  {
   "cell_type": "code",
   "execution_count": null,
   "id": "960dc2f1",
   "metadata": {
    "vscode": {
     "languageId": "plaintext"
    }
   },
   "outputs": [],
   "source": []
  },
  {
   "cell_type": "code",
   "execution_count": null,
   "id": "dedffb7e",
   "metadata": {
    "vscode": {
     "languageId": "plaintext"
    }
   },
   "outputs": [],
   "source": []
  },
  {
   "cell_type": "code",
   "execution_count": null,
   "id": "505b0ed4",
   "metadata": {
    "vscode": {
     "languageId": "plaintext"
    }
   },
   "outputs": [],
   "source": []
  },
  {
   "cell_type": "code",
   "execution_count": null,
   "id": "ba4b3e30",
   "metadata": {
    "vscode": {
     "languageId": "plaintext"
    }
   },
   "outputs": [],
   "source": []
  }
 ],
 "metadata": {
  "language_info": {
   "name": "python"
  }
 },
 "nbformat": 4,
 "nbformat_minor": 5
}
