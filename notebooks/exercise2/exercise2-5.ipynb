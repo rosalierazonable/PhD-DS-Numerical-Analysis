{
 "cells": [
  {
   "cell_type": "markdown",
   "id": "2b63cd52",
   "metadata": {},
   "source": [
    "# Math 271.1: Exercise 2 (#5)"
   ]
  },
  {
   "cell_type": "markdown",
   "id": "b2838e58",
   "metadata": {},
   "source": [
    "#### INSTRUCTION: Iterative Methods: Jacobi, Gauss–Seidel, and SOR <br>\n",
    "\n",
    "(a) Solve using (i) Jacobi, (ii) Gauss–Seidel, and (iii) SOR methods. <br>\n",
    "(b) Determine the relaxation parameter ω that yields the fastest convergence."
   ]
  },
  {
   "cell_type": "markdown",
   "id": "6854611c",
   "metadata": {},
   "source": [
    "#### Importing Libraries needed\n",
    "\n",
    "We'll need:\n",
    "- numpy for numerical computations\n",
    "- matplotlib for image display\n",
    "- PIL (Python Imaging Library) for image processing"
   ]
  },
  {
   "cell_type": "markdown",
   "id": "66bcce28",
   "metadata": {},
   "source": []
  }
 ],
 "metadata": {
  "language_info": {
   "name": "python"
  }
 },
 "nbformat": 4,
 "nbformat_minor": 5
}
