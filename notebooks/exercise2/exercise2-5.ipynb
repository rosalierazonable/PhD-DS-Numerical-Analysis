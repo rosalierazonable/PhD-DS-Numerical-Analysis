{
 "cells": [
  {
   "cell_type": "markdown",
   "id": "2b63cd52",
   "metadata": {},
   "source": [
    "# Math 271.1: Exercise 2 (#5)"
   ]
  },
  {
   "cell_type": "markdown",
   "id": "b2838e58",
   "metadata": {},
   "source": [
    "#### INSTRUCTION: Iterative Methods: Jacobi, Gauss–Seidel, and SOR <br>\n",
    "\n",
    "(a) Solve using (i) Jacobi, (ii) Gauss–Seidel, and (iii) SOR methods. <br>\n",
    "(b) Determine the relaxation parameter ω that yields the fastest convergence."
   ]
  },
  {
   "cell_type": "markdown",
   "id": "6854611c",
   "metadata": {},
   "source": [
    "#### Importing Libraries needed\n",
    "\n",
    "We'll need:\n",
    "- numpy for numerical computations\n",
    "- matplotlib for image display\n",
    "- PIL (Python Imaging Library) for image processing"
   ]
  },
  {
   "cell_type": "code",
   "execution_count": 59,
   "id": "8a86191f",
   "metadata": {},
   "outputs": [],
   "source": [
    "import numpy as np\n",
    "import matplotlib.pyplot as plt"
   ]
  },
  {
   "cell_type": "markdown",
   "id": "fb50e859",
   "metadata": {},
   "source": [
    "#### Initializing Matrix A"
   ]
  },
  {
   "cell_type": "code",
   "execution_count": 60,
   "id": "959e9089",
   "metadata": {},
   "outputs": [
    {
     "name": "stdout",
     "output_type": "stream",
     "text": [
      "[[ 4. -1.  0.]\n",
      " [-1.  4. -1.]\n",
      " [ 0. -1.  3.]]\n"
     ]
    }
   ],
   "source": [
    "A = np.array([\n",
    "    [4, -1, 0],\n",
    "    [-1, 4, -1],\n",
    "    [0, -1, 3]\n",
    "], dtype=float)\n",
    "\n",
    "print(A)"
   ]
  },
  {
   "cell_type": "markdown",
   "id": "25923aae",
   "metadata": {},
   "source": [
    "#### Initializing Right-hand side Vector b"
   ]
  },
  {
   "cell_type": "code",
   "execution_count": 61,
   "id": "96109ea2",
   "metadata": {},
   "outputs": [
    {
     "name": "stdout",
     "output_type": "stream",
     "text": [
      "[15. 10. 10.]\n"
     ]
    }
   ],
   "source": [
    "b = np.array([15, 10, 10], dtype=float)\n",
    "\n",
    "print(b)"
   ]
  },
  {
   "cell_type": "markdown",
   "id": "282f31f5",
   "metadata": {},
   "source": [
    "### (a) Solving using Jacobi Method\n",
    "\n",
    "[Reference: Burden & Faires, \"Numerical Analysis\", Section 7.2]\n",
    "\n",
    "- Args:\n",
    "    - A (Coefficient matrix)\n",
    "    - b (vector)\n",
    "    - tolerance\n",
    "    - max_iter: safety limit or maximum iteration allowed\n",
    "\n",
    "\n",
    "#### Algorithm: \n",
    "- Initialize system from b\n",
    "- Creates initial guess vector\n",
    "- Using .copy() to make sure input x0 is not modified, zero if not supplied\n",
    "- Main iteration:\n",
    "    - Limits iteration to max_iter to make sure we don't get infinite loop issue\n",
    "    - Creates new array for next iteration's values\n",
    "    - Since old values will also be used, these arrays must be unique\n",
    "    - Convergence check\n",
    "\n",
    "The convergence is guaranteed when A is strictly diagonally dominant\n",
    "[Golub & Van Loan, \"Matrix Computations\", Chapter 10.1]"
   ]
  },
  {
   "cell_type": "code",
   "execution_count": 62,
   "id": "9fb398a2",
   "metadata": {},
   "outputs": [],
   "source": [
    "def jacobi(A, b, x0=None, tol=1e-6, max_iter=1000):\n",
    "\n",
    "    # Creates initial guess\n",
    "    n = len(b)\n",
    "    x = np.zeros(n) if x0 is None else x0.copy()\n",
    "\n",
    "    # Uses dot product and updates each component independently\n",
    "    for iteration in range(max_iter):\n",
    "        x_new = np.zeros(n)\n",
    "\n",
    "        # Computes the Jacobi method\n",
    "        for i in range(n):\n",
    "            sum_val = np.dot(A[i, :], x) - A[i, i] * x[i]\n",
    "            x_new[i] = (b[i] - sum_val) / A[i, i]\n",
    "\n",
    "        # Convergence check to check if solution has stabilized\n",
    "        if np.linalg.norm(x_new - x) < tol: #uses norm diff between iterations\n",
    "            return x_new, iteration + 1\n",
    "\n",
    "        x = x_new # Updates solution for next iteration\n",
    "\n",
    "    return x, max_iter"
   ]
  },
  {
   "cell_type": "markdown",
   "id": "462efacd",
   "metadata": {},
   "source": [
    "### (a) Solving using Gauss Seidel Method\n",
    "\n",
    "[Reference: Saad, \"Iterative Methods for Sparse Linear Systems\", Section 4.2]\n",
    "\n",
    "- Args:\n",
    "    - A (Coefficient matrix)\n",
    "    - b (vector)\n",
    "    - tolerance\n",
    "    - max_iterations\n",
    "<br>\n",
    "\n",
    "#### Algorithm: \n",
    "- Gets dimension from b (number of eqns)\n",
    "- Defines solution vector x, either zeroes or copy of x0\n",
    "- Main iteration loop:\n",
    "    - Saves old solution for later's convergence check\n",
    "    - For each eqn i: calculates the Σ(aij*xj) for j≠i\n",
    "    - Use the newest available x values unlike Jacobi\n",
    "    - Skip diagonal element (j≠i)\n",
    "    - Updates xi immediately using the formula and the next xi will be used in the next eqn\n",
    "    - Checks convergence\n",
    "\n",
    "The method typically converges faster than Jacobi when A is symmetric positive-definite\n",
    "[Demmel, \"Applied Numerical Linear Algebra\", Section 6.6]"
   ]
  },
  {
   "cell_type": "code",
   "execution_count": 63,
   "id": "95829a8d",
   "metadata": {},
   "outputs": [],
   "source": [
    "def gauss_seidel(A, b, x0=None, tol=1e-6, max_iter=1000):\n",
    "\n",
    "    n = len(b)\n",
    "    x = np.zeros(n) if x0 is None else x0.copy()\n",
    "\n",
    "    for iteration in range(max_iter):\n",
    "        x_old = x.copy()\n",
    "\n",
    "        for i in range(n):\n",
    "            sum_val = 0\n",
    "            for j in range(n):\n",
    "                if j != i:\n",
    "                    sum_val += A[i, j] * x[j]\n",
    "\n",
    "            x[i] = (b[i] - sum_val) / A[i, i]\n",
    "\n",
    "        # Checks if solution has converged, uses Euclidean norm of change in x\n",
    "        if np.linalg.norm(x - x_old) < tol:\n",
    "            return x, iteration + 1 #retuns solution and number of iterations if converged\n",
    "\n",
    "    return x, max_iter # if max iterations reached without convergence"
   ]
  },
  {
   "cell_type": "markdown",
   "id": "a3d3a208",
   "metadata": {},
   "source": [
    "### (a) Solving using SOR Method\n",
    "\n",
    "[Reference: Golub & Van Loan, \"Matrix Computations\", Section 10.1.5]\n",
    "\n",
    "- Args:\n",
    "    - A (Coefficient matrix)\n",
    "    - b (vector)\n",
    "    - omega: relaxation parameter\n",
    "    - x0: initial guess\n",
    "    - tol: Convergence tolerance\n",
    "    - max_iter: Maximum iteration allowed\n",
    "\n",
    "\n",
    "#### Algorithm:\n",
    "[Based on: Saad, \"Iterative Methods for Sparse Linear Systems\", Chapter 4.4]\n",
    "\n",
    "- Gets dimension from b (number of eqns)\n",
    "- Defines solution vector x, either zeroes or copy of x0\n",
    "- Ensures consistent starting point\n",
    "- Implements the SOR method via iterations:\n",
    "    - Calculates the Gauss-Seidel component\n",
    "    - Like Gauss-Seidel, it uses the newest available values\n",
    "    - Excludes diagonal term\n",
    "    - Accumulates off-diagonal contributions\n",
    "    - SOR update step\n",
    "- Uses Omega as an acceleration parameter to speed up convergence\n",
    "\n",
    "For symmetric positive definite matrices, convergence is guaranteed for 0 < ω < 2\n",
    "[Strang, \"Linear Algebra and Its Applications\", Chapter 7.4]"
   ]
  },
  {
   "cell_type": "code",
   "execution_count": 64,
   "id": "3e3369d8",
   "metadata": {},
   "outputs": [],
   "source": [
    "def sor(A, b, omega, x0=None, tol=1e-6, max_iter=1000):\n",
    "\n",
    "    n = len(b)\n",
    "    x = np.zeros(n) if x0 is None else x0.copy()\n",
    "\n",
    "    # Stores orevious soln for convergence check\n",
    "    for iteration in range(max_iter):\n",
    "        x_old = x.copy()\n",
    "\n",
    "        # implements the SOr method, if u notice\n",
    "        for i in range(n):\n",
    "            sum_val = 0\n",
    "            for j in range(n):\n",
    "                if j != i:\n",
    "                    sum_val += A[i, j] * x[j]\n",
    "\n",
    "            # SOR update step, first computes Gauss-Seidel update then relaxes it\n",
    "            x_gs = (b[i] - sum_val) / A[i, i]\n",
    "            x[i] = (1 - omega) * x[i] + omega * x_gs # applies relaxation with omega\n",
    "\n",
    "        # convergence check\n",
    "        if np.linalg.norm(x - x_old) < tol:\n",
    "            return x, iteration + 1\n",
    "\n",
    "    return x, max_iter"
   ]
  },
  {
   "cell_type": "markdown",
   "id": "0a73394c",
   "metadata": {},
   "source": [
    "### (b) Determine omega \"relaxation parameter\"\n",
    "\n",
    "[Reference: Burden & Faires, \"Numerical Analysis\", Section 7.4]\n",
    "\n",
    "- Range Selection (1.0 to 2.0):\n",
    "    - Start at ω=1.0 (equivalent to Gauss-Seidel)\n",
    "    - Go up to ω=2.0 (theoretical upper limit for convergence)\n",
    "    - ω < 1: Usually slower than Gauss-Seidel\n",
    "    - ω > 2: Usually leads to divergence\n",
    "\n",
    "The optimal value of ω depends on the eigenvalues of the iteration matrix\n",
    "[Young, \"Iterative Solution of Large Linear Systems\", Chapter 5]"
   ]
  },
  {
   "cell_type": "code",
   "execution_count": 65,
   "id": "50382ef7",
   "metadata": {},
   "outputs": [
    {
     "name": "stdout",
     "output_type": "stream",
     "text": [
      "Jacobi iterations: 18\n",
      "Gauss-Seidel iterations: 10\n",
      "Optimal ω: 1.05\n"
     ]
    }
   ],
   "source": [
    "# Solve and compare\n",
    "x_jacobi, iter_jacobi = jacobi(A, b)\n",
    "x_gs, iter_gs = gauss_seidel(A, b)\n",
    "\n",
    "# Find optimal omega\n",
    "omega_values = np.linspace(1.0, 2.0, 21) # Creates 21 evenly spaced values between 1.0 and 2.0\n",
    "iterations_sor = []\n",
    "\n",
    "for omega in omega_values:\n",
    "    _, iters = sor(A, b, omega)\n",
    "    iterations_sor.append(iters)\n",
    "\n",
    "# using np.argmin to find index of minimum iterations, the output is the omega value that gives fastest convergence\n",
    "optimal_omega = omega_values[np.argmin(iterations_sor)]\n",
    "\n",
    "print(f\"Jacobi iterations: {iter_jacobi}\")\n",
    "print(f\"Gauss-Seidel iterations: {iter_gs}\")\n",
    "print(f\"Optimal ω: {optimal_omega:.2f}\")"
   ]
  },
  {
   "cell_type": "markdown",
   "id": "7e0e7faa",
   "metadata": {},
   "source": [
    "### Compare Solutions and Convergence Behaviour\n",
    "\n"
   ]
  },
  {
   "cell_type": "code",
   "execution_count": 66,
   "id": "657baf75",
   "metadata": {},
   "outputs": [
    {
     "name": "stdout",
     "output_type": "stream",
     "text": [
      "Solutions:\n",
      "\n",
      "Jacobi solution (after 18 iterations):\n",
      "x = [4.99999987 4.99999985 4.99999983]\n",
      "\n",
      "Gauss-Seidel solution (after 10 iterations):\n",
      "x = [4.99999992 4.99999995 4.99999998]\n",
      "\n",
      "SOR solution with ω=1.05 (after 7 iterations):\n",
      "x = [5.00000003 4.99999999 5.        ]\n",
      "\n",
      "Residuals (||b - Ax||):\n",
      "Jacobi:       5.93e-07\n",
      "Gauss-Seidel: 2.88e-07\n",
      "SOR:         1.58e-07\n"
     ]
    }
   ],
   "source": [
    "# Get solution with optimal SOR\n",
    "x_sor, iter_sor = sor(A, b, optimal_omega)\n",
    "\n",
    "# Compare solutions\n",
    "print(\"Solutions:\\n\")\n",
    "print(f\"Jacobi solution (after {iter_jacobi} iterations):\")\n",
    "print(f\"x = {x_jacobi}\\n\")\n",
    "\n",
    "print(f\"Gauss-Seidel solution (after {iter_gs} iterations):\")\n",
    "print(f\"x = {x_gs}\\n\")\n",
    "\n",
    "print(f\"SOR solution with ω={optimal_omega:.2f} (after {iter_sor} iterations):\")\n",
    "print(f\"x = {x_sor}\\n\")\n",
    "\n",
    "# Verify solutions by checking residuals\n",
    "def compute_residual(A, b, x):\n",
    "    return np.linalg.norm(b - A @ x)\n",
    "\n",
    "print(\"Residuals (||b - Ax||):\")\n",
    "print(f\"Jacobi:       {compute_residual(A, b, x_jacobi):.2e}\")\n",
    "print(f\"Gauss-Seidel: {compute_residual(A, b, x_gs):.2e}\")\n",
    "print(f\"SOR:         {compute_residual(A, b, x_sor):.2e}\")"
   ]
  },
  {
   "cell_type": "markdown",
   "id": "0e7b771f",
   "metadata": {},
   "source": [
    "### Convergence Analysis\n",
    "\n",
    "[Reference: Saad, \"Iterative Methods for Sparse Linear Systems\", Section 4.5]\n",
    "\n",
    "The convergence rate analysis follows techniques described in:\n",
    "[Barrett et al., \"Templates for the Solution of Linear Systems\", Chapter 2]"
   ]
  },
  {
   "cell_type": "code",
   "execution_count": 67,
   "id": "7d26d388",
   "metadata": {},
   "outputs": [
    {
     "data": {
      "image/png": "[encoded data removed]",
      "text/plain": [
       "<Figure size 1200x500 with 2 Axes>"
      ]
     },
     "metadata": {},
     "output_type": "display_data"
    },
    {
     "name": "stdout",
     "output_type": "stream",
     "text": [
      "\n",
      "Method Comparison Summary:\n",
      "--------------------------------------------------\n",
      "Method          Iterations        Residual\n",
      "--------------------------------------------------\n",
      "Jacobi                  18        5.93e-07\n",
      "Gauss-Seidel            10        2.88e-07\n",
      "SOR                      7        1.58e-07\n"
     ]
    }
   ],
   "source": [
    "# Create visualization of convergence behavior\n",
    "plt.figure(figsize=(12, 5))\n",
    "\n",
    "# Plot 1: SOR iterations vs omega\n",
    "plt.subplot(1, 2, 1)\n",
    "plt.plot(omega_values, iterations_sor, 'b-', label='SOR')\n",
    "plt.axvline(x=optimal_omega, color='r', linestyle='--', label=f'Optimal ω={optimal_omega:.2f}')\n",
    "plt.xlabel('ω (relaxation parameter)')\n",
    "plt.ylabel('Number of iterations')\n",
    "plt.title('SOR Convergence vs. ω')\n",
    "plt.grid(True)\n",
    "plt.legend()\n",
    "\n",
    "# Plot 2: Method comparison\n",
    "plt.subplot(1, 2, 2)\n",
    "methods = ['Jacobi', 'Gauss-Seidel', f'SOR (ω={optimal_omega:.2f})']\n",
    "iterations = [iter_jacobi, iter_gs, iter_sor]\n",
    "plt.bar(methods, iterations)\n",
    "plt.ylabel('Number of iterations')\n",
    "plt.title('Convergence Speed Comparison')\n",
    "plt.xticks(rotation=45)\n",
    "\n",
    "plt.tight_layout()\n",
    "plt.show()\n",
    "\n",
    "# Print summary\n",
    "print(\"\\nMethod Comparison Summary:\")\n",
    "print(\"-\" * 50)\n",
    "print(f\"{'Method':<15} {'Iterations':>10} {'Residual':>15}\")\n",
    "print(\"-\" * 50)\n",
    "print(f\"{'Jacobi':<15} {iter_jacobi:>10} {compute_residual(A, b, x_jacobi):>15.2e}\")\n",
    "print(f\"{'Gauss-Seidel':<15} {iter_gs:>10} {compute_residual(A, b, x_gs):>15.2e}\")\n",
    "print(f\"{'SOR':<15} {iter_sor:>10} {compute_residual(A, b, x_sor):>15.2e}\")"
   ]
  },
  {
   "cell_type": "markdown",
   "id": "d7ecc9b0",
   "metadata": {},
   "source": [
    "#### References\n",
    "\n",
    "[1] Burden, R. L., & Faires, J. D. \"Numerical Analysis\" - [Textbook Notes](https://tutorial.math.lamar.edu/Classes/DE/DE.aspx) <br>\n",
    "[2] Golub, G. H., & Van Loan, C. F. \"Matrix Computations\" - [Stanford Course Notes](https://web.stanford.edu/class/cme302/notes/) <br>\n",
    "[3] Saad, Y. \"Iterative Methods for Sparse Linear Systems\" - [Free PDF from Author](https://www-users.cse.umn.edu/~saad/IterMethBook_2ndEd.pdf) <br>\n",
    "[4] Barrett et al. \"Templates for the Solution of Linear Systems\" - [Free PDF from Netlib](https://www.netlib.org/templates/templates.pdf) <br>\n",
    "[5] MIT OpenCourseWare \"Linear Algebra\" by Gilbert Strang - [Online Course](https://ocw.mit.edu/courses/18-06-linear-algebra-spring-2010/)"
   ]
  }
 ],
 "metadata": {
  "kernelspec": {
   "display_name": ".venv (3.13.7)",
   "language": "python",
   "name": "python3"
  },
  "language_info": {
   "codemirror_mode": {
    "name": "ipython",
    "version": 3
   },
   "file_extension": ".py",
   "mimetype": "text/x-python",
   "name": "python",
   "nbconvert_exporter": "python",
   "pygments_lexer": "ipython3",
   "version": "3.13.7"
  }
 },
 "nbformat": 4,
 "nbformat_minor": 5
}
