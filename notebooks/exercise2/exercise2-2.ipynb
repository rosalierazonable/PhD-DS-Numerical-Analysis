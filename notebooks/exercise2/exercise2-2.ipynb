{
 "cells": [
  {
   "cell_type": "markdown",
   "id": "5348be38",
   "metadata": {},
   "source": [
    "# Math 271.1: Exercise 2 (#2)"
   ]
  },
  {
   "cell_type": "markdown",
   "id": "87aa39d2",
   "metadata": {},
   "source": [
    "#### INSTRUCTION: Polynomial Regression (Quadratic) via Normal Equations and Cholesky Factorization <br>\n",
    "\n",
    "(a) Derive the normal equations for the least squares solution. <br>\n",
    "(b) Implement your own Cholesky factorization routine to solve the resulting equations. <br>\n",
    "(c) Plot the observed data points (xi,yi) and the fitted quadratic curve on the same graph."
   ]
  },
  {
   "cell_type": "markdown",
   "id": "1247c7bf",
   "metadata": {},
   "source": [
    "#### Importing Libraries needed"
   ]
  },
  {
   "cell_type": "code",
   "execution_count": 28,
   "id": "8e0e769a",
   "metadata": {},
   "outputs": [],
   "source": [
    "import numpy as np #for array operations and numeric computations\n",
    "import matplotlib.pyplot as plt # for plotting the data and results\n",
    "\n",
    "from IPython.display import display # for displaying arrays and matrices nicely"
   ]
  },
  {
   "cell_type": "markdown",
   "id": "0dcb68d6",
   "metadata": {},
   "source": [
    "### (a) Deriving the normal equations"
   ]
  },
  {
   "cell_type": "markdown",
   "id": "f1b2f10a",
   "metadata": {},
   "source": [
    "#### Initializing the dataset (observed data points)\n",
    "\n",
    "- creates the input data (x) snd the output data (y)\n",
    "- will be used to fit the quadratic regression model"
   ]
  },
  {
   "cell_type": "code",
   "execution_count": 29,
   "id": "8844461e",
   "metadata": {},
   "outputs": [
    {
     "data": {
      "text/plain": [
       "array([0, 1, 2, 3, 4, 5, 6, 7, 8, 9])"
      ]
     },
     "metadata": {},
     "output_type": "display_data"
    },
    {
     "data": {
      "text/plain": [
       "array([ 2.03,  4.02,  7.02, 10.45, 15.03, 20.6 , 27.4 , 35.35, 44.42,\n",
       "       54.38])"
      ]
     },
     "metadata": {},
     "output_type": "display_data"
    }
   ],
   "source": [
    "x_data = np.array([0, 1, 2, 3, 4, 5, 6, 7, 8, 9])\n",
    "y_data = np.array([2.03, 4.02, 7.02, 10.45, 15.03,\n",
    "                    20.60, 27.40, 35.35, 44.42, 54.38])\n",
    "\n",
    "display(x_data, y_data)"
   ]
  },
  {
   "cell_type": "markdown",
   "id": "85faf7ec",
   "metadata": {},
   "source": [
    "#### Build design matrix for quadratic model\n",
    "\n",
    "- transforms data into the format needed for the quadratic regression\n",
    "- we use each column to represent a term in the quadratic equation: β₀ + β₁x + β₂x²"
   ]
  },
  {
   "cell_type": "code",
   "execution_count": 30,
   "id": "2afb06b8",
   "metadata": {},
   "outputs": [
    {
     "data": {
      "text/plain": [
       "array([[ 1.,  0.,  0.],\n",
       "       [ 1.,  1.,  1.],\n",
       "       [ 1.,  2.,  4.],\n",
       "       [ 1.,  3.,  9.],\n",
       "       [ 1.,  4., 16.],\n",
       "       [ 1.,  5., 25.],\n",
       "       [ 1.,  6., 36.],\n",
       "       [ 1.,  7., 49.],\n",
       "       [ 1.,  8., 64.],\n",
       "       [ 1.,  9., 81.]])"
      ]
     },
     "metadata": {},
     "output_type": "display_data"
    }
   ],
   "source": [
    "n = len(x_data)\n",
    "X = np.zeros((n, 3))\n",
    "X[:, 0] = 1      # Column of ones\n",
    "X[:, 1] = x_data      # x values\n",
    "X[:, 2] = x_data**2   # x^2 values\n",
    "\n",
    "display(X)"
   ]
  },
  {
   "cell_type": "code",
   "execution_count": null,
   "id": "9b03c26a",
   "metadata": {},
   "outputs": [
    {
     "data": {
      "text/plain": [
       "array([[1.0000e+01, 4.5000e+01, 2.8500e+02],\n",
       "       [4.5000e+01, 2.8500e+02, 2.0250e+03],\n",
       "       [2.8500e+02, 2.0250e+03, 1.5333e+04]])"
      ]
     },
     "metadata": {},
     "output_type": "display_data"
    },
    {
     "data": {
      "text/plain": [
       "array([  220.7 ,  1469.16, 10847.84])"
      ]
     },
     "metadata": {},
     "output_type": "display_data"
    }
   ],
   "source": [
    "# Symmetric positive definite matrix required for Cholesky\n",
    "XTX = X.T @ X\n",
    "XTy = X.T @ y_data\n",
    "\n",
    "display(XTX, XTy)"
   ]
  },
  {
   "cell_type": "markdown",
   "id": "108b71fe",
   "metadata": {},
   "source": [
    "### (b) Implementing Cholesky Factorization"
   ]
  },
  {
   "cell_type": "markdown",
   "id": "d712a698",
   "metadata": {},
   "source": [
    "#### Compute Cholesky factorization A = LL^T"
   ]
  },
  {
   "cell_type": "code",
   "execution_count": null,
   "id": "b10f5b10",
   "metadata": {},
   "outputs": [
    {
     "data": {
      "text/plain": [
       "array([[ 3.16227766,  0.        ,  0.        ],\n",
       "       [14.23024947,  9.08295106,  0.        ],\n",
       "       [90.12491331, 81.74655956, 22.97825059]])"
      ]
     },
     "metadata": {},
     "output_type": "display_data"
    }
   ],
   "source": [
    "A = XTX\n",
    "\n",
    "n = A.shape[0]\n",
    "L = np.zeros((n, n))\n",
    "\n",
    "for i in range(n):\n",
    "    for j in range(i+1):\n",
    "        if i == j:\n",
    "            # Diagonal element\n",
    "            sum_val = np.sum(L[i, :i]**2)\n",
    "            L[i, i] = np.sqrt(A[i, i] - sum_val)\n",
    "        else:\n",
    "            # Off-diagonal element\n",
    "            sum_val = np.sum(L[i, :j] * L[j, :j])\n",
    "            L[i, j] = (A[i, j] - sum_val) / L[j, j]\n",
    "\n",
    "display(L)"
   ]
  },
  {
   "cell_type": "markdown",
   "id": "f28bb89e",
   "metadata": {},
   "source": [
    "#### Solving for coefficients\n",
    "\n",
    "- Uses forward substitution to solve Lz = X^T y\n",
    "- Uses backward substitution to solve L^T β = z\n",
    "- The resulting coefficients define the quadratic model\n"
   ]
  },
  {
   "cell_type": "code",
   "execution_count": 21,
   "id": "8052c66e",
   "metadata": {},
   "outputs": [
    {
     "name": "stdout",
     "output_type": "stream",
     "text": [
      "β₀ = 2.3285 (true: 2.0)\n",
      "β₁ = 1.1028 (true: 1.5)\n",
      "β₂ = 0.5186 (true: 0.5)\n"
     ]
    }
   ],
   "source": [
    "# Solve for beta\n",
    "z = np.linalg.solve(L, XTy)\n",
    "beta = np.linalg.solve(L.T, z)\n",
    "\n",
    "print(f\"β₀ = {beta[0]:.4f} (true: 2.0)\")\n",
    "print(f\"β₁ = {beta[1]:.4f} (true: 1.5)\")\n",
    "print(f\"β₂ = {beta[2]:.4f} (true: 0.5)\")"
   ]
  },
  {
   "cell_type": "markdown",
   "id": "b574216a",
   "metadata": {},
   "source": [
    "### (c) Visualization: Plotting the coefficients and the fitted curve"
   ]
  },
  {
   "cell_type": "code",
   "execution_count": 22,
   "id": "de6df55c",
   "metadata": {},
   "outputs": [
    {
     "data": {
      "image/png": "[encoded data removed]",
      "text/plain": [
       "<Figure size 1000x600 with 1 Axes>"
      ]
     },
     "metadata": {},
     "output_type": "display_data"
    }
   ],
   "source": [
    "x_plot = np.linspace(0, 9, 100)\n",
    "y_plot = beta[0] + beta[1]*x_plot + beta[2]*x_plot**2\n",
    "\n",
    "plt.figure(figsize=(10, 6))\n",
    "plt.scatter(x_data, y_data, s=50, label='Observed', zorder=3)\n",
    "plt.plot(x_plot, y_plot, 'r-', linewidth=2, label='Fitted')\n",
    "plt.xlabel('x')\n",
    "plt.ylabel('y')\n",
    "plt.title('Quadratic Regression via Cholesky Factorization')\n",
    "plt.legend()\n",
    "plt.grid(True, alpha=0.3)\n",
    "plt.show()\n"
   ]
  },
  {
   "cell_type": "markdown",
   "id": "3b6abbda",
   "metadata": {},
   "source": []
  }
 ],
 "metadata": {
  "kernelspec": {
   "display_name": ".venv (3.13.7)",
   "language": "python",
   "name": "python3"
  },
  "language_info": {
   "codemirror_mode": {
    "name": "ipython",
    "version": 3
   },
   "file_extension": ".py",
   "mimetype": "text/x-python",
   "name": "python",
   "nbconvert_exporter": "python",
   "pygments_lexer": "ipython3",
   "version": "3.13.7"
  }
 },
 "nbformat": 4,
 "nbformat_minor": 5
}
