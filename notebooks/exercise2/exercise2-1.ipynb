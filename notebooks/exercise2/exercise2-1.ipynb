{
 "cells": [
  {
   "cell_type": "markdown",
   "id": "ed8deb54",
   "metadata": {},
   "source": [
    "# Math 271.1: Exercise 2 (#1)"
   ]
  },
  {
   "cell_type": "markdown",
   "id": "4e2bf7c9",
   "metadata": {},
   "source": [
    "#### INSTRUCTION: Solving a Linear System Using LU Factorization <br>\n",
    "\n",
    "(a) Write a program that performs LU factorization (without pivoting) <br>\n",
    "(b) Solve for x using forward and backward substitution <br>\n",
    "(c) Verify your solution by comparing with the direct solver output"
   ]
  },
  {
   "cell_type": "code",
   "execution_count": 21,
   "id": "f2632446",
   "metadata": {},
   "outputs": [],
   "source": [
    "import numpy as np # for numerical operations\n",
    "from IPython.display import display # for displaying outputs nicely"
   ]
  },
  {
   "cell_type": "markdown",
   "id": "581d2fe9",
   "metadata": {},
   "source": [
    "#### Initialize the system A and b\n",
    "\n",
    "- Matrix A initialization\n",
    "- Vector b initialization"
   ]
  },
  {
   "cell_type": "code",
   "execution_count": 24,
   "id": "4310a81b",
   "metadata": {},
   "outputs": [
    {
     "data": {
      "text/plain": [
       "array([[ 2., -1.,  1.,  3.],\n",
       "       [ 4.,  1.,  0.,  1.],\n",
       "       [-2.,  5.,  3., -1.],\n",
       "       [ 1.,  0.,  2.,  4.]])"
      ]
     },
     "metadata": {},
     "output_type": "display_data"
    }
   ],
   "source": [
    "# Creates coefficient matrix A\n",
    "A = np.array([\n",
    "    [2, -1, 1, 3],\n",
    "    [4, 1, 0, 1],\n",
    "    [-2, 5, 3, -1],\n",
    "    [1, 0, 2, 4]\n",
    "], dtype=float)\n",
    "\n",
    "display(A)"
   ]
  },
  {
   "cell_type": "code",
   "execution_count": 25,
   "id": "d8f38d51",
   "metadata": {},
   "outputs": [
    {
     "data": {
      "text/plain": [
       "array([ 8.,  7.,  1., 10.])"
      ]
     },
     "metadata": {},
     "output_type": "display_data"
    }
   ],
   "source": [
    "# Creates right-hand side vector b\n",
    "b = np.array([8, 7, 1, 10], dtype=float)\n",
    "\n",
    "display(b)"
   ]
  },
  {
   "cell_type": "markdown",
   "id": "300ea9a9",
   "metadata": {},
   "source": [
    "### (a) LU Factorization without pivoting\n",
    "\n",
    "- we take note of the number of rows in matrix A (indicates the elimination steps we need) <br> \n",
    "- variables: \n",
    "    - L for Lower Triangular\n",
    "    - Upper Triangular matrix \n",
    "<br>\n",
    "\n",
    "#### Logic: \n",
    "- Start with identity matrix (diagonals of A)\n",
    "- Start U as a copy of A    \n",
    "- Implemeny elimination process:\n",
    "    - For each pivot column k and for each i below the pivot, compute the multiplier (mul)\n",
    "    - Update L using the multiplier\n",
    "    - Update U by eliminating entries below diagonal\n",
    "\n",
    "No pivoting use because there's no row swapping and the rows are processes in their original order"
   ]
  },
  {
   "cell_type": "code",
   "execution_count": 16,
   "id": "81e337e4",
   "metadata": {},
   "outputs": [
    {
     "data": {
      "text/plain": [
       "array([[ 1.        ,  0.        ,  0.        ,  0.        ],\n",
       "       [ 2.        ,  1.        ,  0.        ,  0.        ],\n",
       "       [-1.        ,  1.33333333,  1.        ,  0.        ],\n",
       "       [ 0.5       ,  0.16666667,  0.275     ,  1.        ]])"
      ]
     },
     "metadata": {},
     "output_type": "display_data"
    },
    {
     "data": {
      "text/plain": [
       "array([[ 2.        , -1.        ,  1.        ,  3.        ],\n",
       "       [ 0.        ,  3.        , -2.        , -5.        ],\n",
       "       [ 0.        ,  0.        ,  6.66666667,  8.66666667],\n",
       "       [ 0.        ,  0.        ,  0.        ,  0.95      ]])"
      ]
     },
     "metadata": {},
     "output_type": "display_data"
    }
   ],
   "source": [
    "n = A.shape[0]\n",
    "L = np.eye(n) #Starts with identity matrix of size n, then gets filled during elimination\n",
    "U = A.copy().astype(float) # initialized as A then will get updated through elimination\n",
    "\n",
    "for k in range(n-1): # For each pivot column\n",
    "    for i in range(k+1, n): # For each row below pivot\n",
    "        if U[k, k] == 0:\n",
    "            raise ValueError(\"Zero pivot encountered.\")\n",
    "\n",
    "        # Compute for the multiplier\n",
    "        mul = U[i, k] / U[k, k]\n",
    "\n",
    "        # Eliminate entry in U\n",
    "        L[i, k] = mul\n",
    "        U[i, k:n] = U[i, k:n] - mul * U[k, k:n]\n",
    "\n",
    "display(L, U)"
   ]
  },
  {
   "cell_type": "markdown",
   "id": "f2a162ad",
   "metadata": {},
   "source": [
    "#### Check: L @ U should equal to the matrix A"
   ]
  },
  {
   "cell_type": "code",
   "execution_count": 17,
   "id": "87335bd7",
   "metadata": {},
   "outputs": [
    {
     "name": "stdout",
     "output_type": "stream",
     "text": [
      "\n",
      "L @ U = A:\n",
      "[[ 2. -1.  1.  3.]\n",
      " [ 4.  1.  0.  1.]\n",
      " [-2.  5.  3. -1.]\n",
      " [ 1.  0.  2.  4.]]\n",
      "\n",
      "Original A:\n",
      "[[ 2. -1.  1.  3.]\n",
      " [ 4.  1.  0.  1.]\n",
      " [-2.  5.  3. -1.]\n",
      " [ 1.  0.  2.  4.]]\n",
      "\n",
      "Check: True\n"
     ]
    }
   ],
   "source": [
    "# Check if L @ U equals original A\n",
    "print(\"\\nL @ U = A:\")\n",
    "LU_product = L @ U\n",
    "print(LU_product)\n",
    "\n",
    "print(\"\\nOriginal A:\")\n",
    "print(A)\n",
    "\n",
    "print(\"\\nCheck:\", np.allclose(LU_product, A))"
   ]
  },
  {
   "cell_type": "markdown",
   "id": "dda06329",
   "metadata": {},
   "source": [
    "### (b) Solving x using forward and backward substitution\n",
    "\n",
    "- solve Ly = b using forward substitution\n",
    "- Solve Ux = y using backward substitution\n",
    "- Compare with linalg.solve() for verification"
   ]
  },
  {
   "cell_type": "code",
   "execution_count": 30,
   "id": "2f391021",
   "metadata": {},
   "outputs": [
    {
     "name": "stdout",
     "output_type": "stream",
     "text": [
      "Iteration 0: y[0] = (8.0 - 0.0) / 1.0 = 8.0\n",
      "Iteration 1: y[1] = (7.0 - 16.0) / 1.0 = -9.0\n",
      "Iteration 2: y[2] = (1.0 - -20.0) / 1.0 = 21.0\n",
      "Iteration 3: y[3] = (10.0 - 8.275) / 1.0 = 1.7249999999999996\n",
      "\n",
      "Result y: [ 8.    -9.    21.     1.725]\n"
     ]
    }
   ],
   "source": [
    "## forward substitution to solve Ly = b\n",
    "n = len(b)\n",
    "y = np.zeros(n)\n",
    "\n",
    "for i in range(n):\n",
    "    sum_val = np.dot(L[i, :i], y[:i])\n",
    "    y[i] = (b[i] - sum_val) / L[i, i]\n",
    "    print(f\"Iteration {i}: y[{i}] = ({b[i]} - {sum_val}) / {L[i,i]} = {y[i]}\")\n",
    "\n",
    "print(\"\\nResult y:\", y)"
   ]
  },
  {
   "cell_type": "code",
   "execution_count": null,
   "id": "f3978c3a",
   "metadata": {},
   "outputs": [
    {
     "name": "stdout",
     "output_type": "stream",
     "text": [
      "Iteration 3: x[3] = (1.7249999999999996 - 0.0) / 0.9499999999999997 = 1.8157894736842106\n",
      "Iteration 2: x[2] = (21.0 - 15.736842105263158) / 6.666666666666666 = 0.7894736842105264\n",
      "Iteration 1: x[1] = (-9.0 - -10.657894736842106) / 3.0 = 0.5526315789473687\n",
      "Iteration 0: x[0] = (8.0 - 5.684210526315789) / 2.0 = 1.1578947368421053\n",
      "\n",
      "Result x: [1.15789474 0.55263158 0.78947368 1.81578947]\n"
     ]
    }
   ],
   "source": [
    "## backward substitution to solve Ux = y\n",
    "n = len(y)\n",
    "x = np.zeros(n)\n",
    "\n",
    "for i in range(n-1, -1, -1):\n",
    "    sum_val = np.dot(U[i, i+1:], x[i+1:])\n",
    "    x[i] = (y[i] - sum_val) / U[i, i]\n",
    "    print(f\"Iteration {i}: x[{i}] = ({y[i]} - {sum_val}) / {U[i,i]} = {x[i]}\")\n",
    "\n",
    "print(\"\\nResult x:\", x)"
   ]
  },
  {
   "cell_type": "markdown",
   "id": "e8c48e2f",
   "metadata": {},
   "source": [
    "#### Verify: Solution \n",
    "\n",
    "- Shows computed x solution\n",
    "- Verifies that Ax = b\n",
    "- Compare it with the Numpy's direct solver"
   ]
  },
  {
   "cell_type": "code",
   "execution_count": 20,
   "id": "b48130d8",
   "metadata": {},
   "outputs": [
    {
     "name": "stdout",
     "output_type": "stream",
     "text": [
      "Solution x:  [1.15789474 0.55263158 0.78947368 1.81578947]\n",
      "Check Ax = b: True\n",
      "Verification: True\n"
     ]
    }
   ],
   "source": [
    "print(\"Solution x: \", x)\n",
    "print(\"Check Ax = b:\", np.allclose(A @ x, b))\n",
    "print(\"Verification:\", np.allclose(x, np.linalg.solve(A, b)))"
   ]
  }
 ],
 "metadata": {
  "kernelspec": {
   "display_name": ".venv (3.13.7)",
   "language": "python",
   "name": "python3"
  },
  "language_info": {
   "codemirror_mode": {
    "name": "ipython",
    "version": 3
   },
   "file_extension": ".py",
   "mimetype": "text/x-python",
   "name": "python",
   "nbconvert_exporter": "python",
   "pygments_lexer": "ipython3",
   "version": "3.13.7"
  }
 },
 "nbformat": 4,
 "nbformat_minor": 5
}
