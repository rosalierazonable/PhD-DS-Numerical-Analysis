{
 "cells": [
  {
   "cell_type": "markdown",
   "id": "2c3f277a",
   "metadata": {},
   "source": [
    "# Math 271.1: Exercise 2 (#6)"
   ]
  },
  {
   "cell_type": "markdown",
   "id": "6b73d8f2",
   "metadata": {},
   "source": [
    "#### INSTRUCTION: Tikhonov Regularization for an Ill-posed Example <br>\n",
    "\n",
    "(a) Compute the direct (unregularized) solutions <br>\n",
    "(b) the Tikhonov-regularized solutions with fixed parameter λ= 10−3 <br>\n",
    "(c) For both the direct and regularized cases, compute and report"
   ]
  },
  {
   "cell_type": "markdown",
   "id": "21dee8a4",
   "metadata": {},
   "source": [
    "#### Importing Libraries needed\n",
    "\n",
    "- numpy for numerical computations\n",
    "- matplotlib for image display"
   ]
  },
  {
   "cell_type": "code",
   "execution_count": 29,
   "id": "ff816263",
   "metadata": {},
   "outputs": [],
   "source": [
    "import numpy as np\n",
    "import matplotlib.pyplot as plt"
   ]
  },
  {
   "cell_type": "markdown",
   "id": "a874f383",
   "metadata": {},
   "source": [
    "#### Initializing the 3x3 Hilbert Matrix A and Right-hand vectors b, delta_b and b_pert\n",
    "\n",
    "- Original: Ax = b\n",
    "- Perturbed: Ax = b_pert"
   ]
  },
  {
   "cell_type": "code",
   "execution_count": 30,
   "id": "e3680796",
   "metadata": {},
   "outputs": [
    {
     "name": "stdout",
     "output_type": "stream",
     "text": [
      "Hilbert Matrix A:\n",
      " [[1.         0.5        0.33333333]\n",
      " [0.5        0.33333333 0.25      ]\n",
      " [0.33333333 0.25       0.2       ]]\n",
      "\n",
      "Vector b:  [1.  0.8 0.6]\n",
      "\n",
      "Perturbed:  [1.1 0.7 0.6]\n"
     ]
    }
   ],
   "source": [
    "A = np.array([\n",
    "    [1, 1/2, 1/3],\n",
    "    [1/2, 1/3, 1/4],\n",
    "    [1/3, 1/4, 1/5]\n",
    "])\n",
    "\n",
    "print(\"Hilbert Matrix A:\\n\", A)\n",
    "\n",
    "b = np.array([1.0000, 0.8000, 0.6000])\n",
    "delta_b = np.array([0.1, -0.1, 0])\n",
    "b_pert = b + delta_b\n",
    "\n",
    "print(\"\\nVector b: \", b)\n",
    "print(\"\\nPerturbed: \", b_pert)"
   ]
  },
  {
   "cell_type": "markdown",
   "id": "838bb11c",
   "metadata": {},
   "source": [
    "#### Compute Condition Number\n",
    "\n",
    "- κ(A) = ||A|| · ||A⁻¹|| ≈ 524"
   ]
  },
  {
   "cell_type": "code",
   "execution_count": 31,
   "id": "ce7c4863",
   "metadata": {},
   "outputs": [
    {
     "name": "stdout",
     "output_type": "stream",
     "text": [
      "Condition number: 5.24e+02\n"
     ]
    }
   ],
   "source": [
    "print(f\"Condition number: {np.linalg.cond(A):.2e}\")"
   ]
  },
  {
   "cell_type": "markdown",
   "id": "41d0254d",
   "metadata": {},
   "source": [
    "### (a) Direct (Unregularized) Solution\n",
    "\n",
    "- 1. Solves `Ax = b` using LU decomposition (standard method)\n",
    "- 2. Solves `Ax = b_pert` with perturbed right-hand side\n",
    "- 3. Measures **2-norm distance** between solutions\n",
    "\n",
    "- Shows the instability of the direct solution\n"
   ]
  },
  {
   "cell_type": "code",
   "execution_count": 32,
   "id": "47e3abb7",
   "metadata": {},
   "outputs": [
    {
     "name": "stdout",
     "output_type": "stream",
     "text": [
      "\n",
      "Direct solution: [-1.8  9.6 -6. ]\n",
      "Direct perturbed: [  2.7 -13.2  15. ]\n",
      "Δ_direct = 31.322356\n"
     ]
    }
   ],
   "source": [
    "# Direct solutions\n",
    "x_direct = np.linalg.solve(A, b)\n",
    "x_pert_direct = np.linalg.solve(A, b_pert)\n",
    "delta_direct = np.linalg.norm(x_direct - x_pert_direct, 2)\n",
    "\n",
    "print(f\"\\nDirect solution: {x_direct}\")\n",
    "print(f\"Direct perturbed: {x_pert_direct}\")\n",
    "print(f\"Δ_direct = {delta_direct:.6f}\")"
   ]
  },
  {
   "cell_type": "markdown",
   "id": "5aee7a67",
   "metadata": {},
   "source": [
    "### (b) Construct Regularized System\n",
    "\n",
    "- AᵀA is even more ill-conditioned than A (condition number squared!). Hence, we need regularization\n",
    "\n",
    "- Original problem: minimize ||Ax - b||²\n",
    "- Normal equations: AᵀAx = Aᵀb\n",
    "- These computations set up the regularization"
   ]
  },
  {
   "cell_type": "code",
   "execution_count": 33,
   "id": "57872f20",
   "metadata": {},
   "outputs": [
    {
     "name": "stdout",
     "output_type": "stream",
     "text": [
      "\n",
      "A^T A:\n",
      "[[1.36111111 0.75       0.525     ]\n",
      " [0.75       0.42361111 0.3       ]\n",
      " [0.525      0.3        0.21361111]]\n",
      "\n",
      "A^T B:\n",
      "[1.6        0.91666667 0.65333333]\n",
      "\n",
      "A^T B Pert:\n",
      "[1.65       0.93333333 0.66166667]\n"
     ]
    }
   ],
   "source": [
    "# Regularized solutions\n",
    "lambda_val = 1e-3\n",
    "\n",
    "# Constructing normal equations: (A^T A + λI)x = A^T b\n",
    "ATA = A.T @ A\n",
    "ATb = A.T @ b\n",
    "ATb_pert = A.T @ b_pert\n",
    "\n",
    "print(f\"\\nA^T A:\\n{ATA}\")\n",
    "print(f\"\\nA^T B:\\n{ATb}\")\n",
    "print(f\"\\nA^T B Pert:\\n{ATb_pert}\")"
   ]
  },
  {
   "cell_type": "markdown",
   "id": "6b9fb701",
   "metadata": {},
   "source": [
    "#### Adding Regularization Term"
   ]
  },
  {
   "cell_type": "code",
   "execution_count": 34,
   "id": "bc7d45f0",
   "metadata": {},
   "outputs": [
    {
     "name": "stdout",
     "output_type": "stream",
     "text": [
      "[[1.36211111 0.75       0.525     ]\n",
      " [0.75       0.42461111 0.3       ]\n",
      " [0.525      0.3        0.21461111]]\n"
     ]
    }
   ],
   "source": [
    "ATA_reg = ATA + lambda_val * np.eye(A.shape[1])\n",
    "\n",
    "print(ATA_reg)"
   ]
  },
  {
   "cell_type": "markdown",
   "id": "1723da69",
   "metadata": {},
   "source": [
    "#### Solving Regularized System\n",
    "\n",
    "- Regularized solutions are much smaller in magnitude (shrinkage effect)\n",
    "- Perturbation causes change of only 0.85 (vs 31.32 for direct!)\n",
    "- Solutions are stable and usable"
   ]
  },
  {
   "cell_type": "code",
   "execution_count": 35,
   "id": "8b9a22f4",
   "metadata": {},
   "outputs": [
    {
     "name": "stdout",
     "output_type": "stream",
     "text": [
      "\n",
      "Regularized solution: [-0.30495693  1.58177583  1.57914923]\n",
      "Regularized perturbed: [0.19652049 0.99805374 1.20719419]\n",
      "Δ_reg = 0.854729\n"
     ]
    }
   ],
   "source": [
    "x_lambda = np.linalg.solve(ATA_reg, ATb)\n",
    "x_pert_lambda = np.linalg.solve(ATA_reg, ATb_pert)\n",
    "delta_reg = np.linalg.norm(x_lambda - x_pert_lambda, 2)\n",
    "\n",
    "print(f\"\\nRegularized solution: {x_lambda}\")\n",
    "print(f\"Regularized perturbed: {x_pert_lambda}\")\n",
    "print(f\"Δ_reg = {delta_reg:.6f}\")"
   ]
  },
  {
   "cell_type": "markdown",
   "id": "e8c4d9cf",
   "metadata": {},
   "source": [
    "- Regularized solutions are much smaller in magnitude (shrinkage effect)\n",
    "- Perturbation causes change of only 0.85 (vs 31.32 for direct!)\n",
    "- Solutions are stable and usable"
   ]
  },
  {
   "cell_type": "markdown",
   "id": "13a44f4a",
   "metadata": {},
   "source": [
    "### Compare Sensitivity\n",
    "\n",
    "- Small bias for **huge stability** gain: \n",
    "    - Regularization slightly changes the solution but makes it **97% less sensitive** to noise\n",
    "- Practical vs theoretical: \n",
    "    - The direct solution is mathematically exact but numerically useless; regularized solution is approximate but actually works\n",
    "- Real-world applicability: \n",
    "    - With measurement noise, only the **regularized solution** provides meaningful results"
   ]
  },
  {
   "cell_type": "code",
   "execution_count": 36,
   "id": "82045b24",
   "metadata": {},
   "outputs": [
    {
     "name": "stdout",
     "output_type": "stream",
     "text": [
      "\n",
      "Sensitivity reduction: 36.65x\n",
      "Regularization reduces sensitivity by 97.3%\n"
     ]
    }
   ],
   "source": [
    "print(f\"\\nSensitivity reduction: {delta_direct/delta_reg:.2f}x\")\n",
    "print(f\"Regularization reduces sensitivity by {(1-delta_reg/delta_direct)*100:.1f}%\")"
   ]
  },
  {
   "cell_type": "markdown",
   "id": "03af1b51",
   "metadata": {},
   "source": [
    "#### References: \n",
    "\n",
    "[1] Tikhonov Regularization Theory: https://en.wikipedia.org/wiki/Tikhonov_regularization <br>\n",
    "[2] Hilbert Matrix Properties: https://en.wikipedia.org/wiki/Hilbert_matrix <br>\n",
    "[3] NumPy Linear Algebra Documentation: https://numpy.org/doc/stable/reference/routines.linalg.html <br>\n",
    "[4] Elements of Statistical Learning (Ch. 3.4): https://hastie.su.domains/ElemStatLearn/ <br>\n",
    "[5] Interactive Regularization Visualization: https://mlu-explain.github.io/regularization/"
   ]
  }
 ],
 "metadata": {
  "kernelspec": {
   "display_name": ".venv (3.13.7)",
   "language": "python",
   "name": "python3"
  },
  "language_info": {
   "codemirror_mode": {
    "name": "ipython",
    "version": 3
   },
   "file_extension": ".py",
   "mimetype": "text/x-python",
   "name": "python",
   "nbconvert_exporter": "python",
   "pygments_lexer": "ipython3",
   "version": "3.13.7"
  }
 },
 "nbformat": 4,
 "nbformat_minor": 5
}
