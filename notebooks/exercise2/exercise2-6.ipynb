{
 "cells": [
  {
   "cell_type": "markdown",
   "id": "2c3f277a",
   "metadata": {},
   "source": [
    "# Math 271.1: Exercise 2 (#6)"
   ]
  },
  {
   "cell_type": "markdown",
   "id": "6b73d8f2",
   "metadata": {},
   "source": [
    "#### INSTRUCTION: Tikhonov Regularization for an Ill-posed Example <br>\n",
    "\n",
    "(a) Compute the direct (unregularized) solutions <br>\n",
    "(b) the Tikhonov-regularized solutions with fixed parameter λ= 10−3 <br>\n",
    "(c) For both the direct and regularized cases, compute and report"
   ]
  },
  {
   "cell_type": "markdown",
   "id": "21dee8a4",
   "metadata": {},
   "source": []
  }
 ],
 "metadata": {
  "kernelspec": {
   "display_name": ".venv (3.13.7)",
   "language": "python",
   "name": "python3"
  },
  "language_info": {
   "name": "python",
   "version": "3.13.7"
  }
 },
 "nbformat": 4,
 "nbformat_minor": 5
}
